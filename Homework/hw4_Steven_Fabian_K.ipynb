{
 "cells": [
  {
   "cell_type": "markdown",
   "metadata": {
    "id": "M0-aX7gan3tu"
   },
   "source": [
    "# Capstone Project\n",
    "## Overview\n",
    "\n",
    "If you are planning on going out to see a movie, how well can you trust online reviews and ratings? *Especially* if the same company showing the rating *also* makes money by selling movie tickets. Do they have a bias towards rating movies higher than they should be rated?\n",
    "\n",
    "### Goal:\n",
    "\n",
    "**Your goal is to complete the tasks below based off the 538 article and see if you reach a similar conclusion. You will need to use your pandas and visualization skills to determine if Fandango's ratings in 2015 had a bias towards rating movies better to sell more tickets.**\n",
    "\n",
    "---\n",
    "---\n",
    "\n",
    "**Complete the tasks written in bold.**\n",
    "\n",
    "---\n",
    "----\n",
    "\n",
    "## Part One: Understanding the Background and Data\n",
    "\n",
    "\n",
    "**TASK: Read this article: [Be Suspicious Of Online Movie Ratings, Especially Fandango’s](http://fivethirtyeight.com/features/fandango-movies-ratings/)**"
   ]
  },
  {
   "cell_type": "markdown",
   "metadata": {
    "id": "hD6kjKa_n3tw"
   },
   "source": [
    "----\n",
    "\n",
    "**TASK: After reading the article, read these two tables giving an overview of the two .csv files we will be working with:**\n",
    "\n",
    "### The Data\n",
    "\n",
    "This is the data behind the story [Be Suspicious Of Online Movie Ratings, Especially Fandango’s](http://fivethirtyeight.com/features/fandango-movies-ratings/) openly available on 538's github: https://github.com/fivethirtyeight/data. There are two csv files, one with Fandango Stars and Displayed Ratings, and the other with aggregate data for movie ratings from other sites, like Metacritic,IMDB, and Rotten Tomatoes.\n",
    "\n",
    "#### all_sites_scores.csv"
   ]
  },
  {
   "cell_type": "markdown",
   "metadata": {
    "id": "T26xM1xGn3tx"
   },
   "source": [
    "-----\n",
    "\n",
    "`all_sites_scores.csv` contains every film that has a Rotten Tomatoes rating, a RT User rating, a Metacritic score, a Metacritic User score, and IMDb score, and at least 30 fan reviews on Fandango. The data from Fandango was pulled on Aug. 24, 2015."
   ]
  },
  {
   "cell_type": "markdown",
   "metadata": {
    "id": "byRwMtyLn3ty"
   },
   "source": [
    "Column | Definition\n",
    "--- | -----------\n",
    "FILM | The film in question\n",
    "RottenTomatoes | The Rotten Tomatoes Tomatometer score  for the film\n",
    "RottenTomatoes_User | The Rotten Tomatoes user score for the film\n",
    "Metacritic | The Metacritic critic score for the film\n",
    "Metacritic_User | The Metacritic user score for the film\n",
    "IMDB | The IMDb user score for the film\n",
    "Metacritic_user_vote_count | The number of user votes the film had on Metacritic\n",
    "IMDB_user_vote_count | The number of user votes the film had on IMDb"
   ]
  },
  {
   "cell_type": "markdown",
   "metadata": {
    "id": "ZbN5zMNvn3ty"
   },
   "source": [
    "----\n",
    "----\n",
    "\n",
    "#### fandango_scape.csv"
   ]
  },
  {
   "cell_type": "markdown",
   "metadata": {
    "id": "mv_QLhoZn3t0"
   },
   "source": [
    "`fandango_scrape.csv` contains every film 538 pulled from Fandango.\n",
    "\n",
    "Column | Definiton\n",
    "--- | ---------\n",
    "FILM | The movie\n",
    "STARS | Number of stars presented on Fandango.com\n",
    "RATING |  The Fandango ratingValue for the film, as pulled from the HTML of each page. This is the actual average score the movie obtained.\n",
    "VOTES | number of people who had reviewed the film at the time we pulled it."
   ]
  },
  {
   "cell_type": "markdown",
   "metadata": {
    "id": "xxxQ-NXAn3t1"
   },
   "source": [
    "----\n",
    "\n",
    "**TASK: Import any libraries you think you will use:**"
   ]
  },
  {
   "cell_type": "code",
   "execution_count": 116,
   "metadata": {
    "id": "4-QDXqNln3t1"
   },
   "outputs": [],
   "source": [
    "import numpy as np\n",
    "import pandas as pd\n",
    "import matplotlib.pyplot as plt\n",
    "import seaborn as sns"
   ]
  },
  {
   "cell_type": "code",
   "execution_count": null,
   "metadata": {
    "id": "xqil1Jt4n3t3"
   },
   "outputs": [],
   "source": []
  },
  {
   "cell_type": "markdown",
   "metadata": {
    "id": "GVlqIlqRn3t3"
   },
   "source": [
    "## Part Two: Exploring Fandango Displayed Scores versus True User Ratings\n",
    "\n",
    "Let's first explore the Fandango ratings to see if our analysis agrees with the article's conclusion.\n",
    "\n",
    "**TASK: Run the cell below to read in the fandango_scrape.csv file**"
   ]
  },
  {
   "cell_type": "code",
   "execution_count": 117,
   "metadata": {
    "id": "zzH5Hsgnn3t4"
   },
   "outputs": [],
   "source": [
    "fandango = pd.read_csv(\"fandango_scrape.csv\")"
   ]
  },
  {
   "cell_type": "markdown",
   "metadata": {
    "id": "zqKc2uqdn3t4"
   },
   "source": [
    "**TASK: Explore the DataFrame Properties and Head.**"
   ]
  },
  {
   "cell_type": "code",
   "execution_count": 118,
   "metadata": {
    "id": "m-iE1E6un3t4",
    "outputId": "3d7d9af8-ef77-4977-f9d1-e14177673ab5"
   },
   "outputs": [
    {
     "data": {
      "text/html": [
       "<div>\n",
       "<style scoped>\n",
       "    .dataframe tbody tr th:only-of-type {\n",
       "        vertical-align: middle;\n",
       "    }\n",
       "\n",
       "    .dataframe tbody tr th {\n",
       "        vertical-align: top;\n",
       "    }\n",
       "\n",
       "    .dataframe thead th {\n",
       "        text-align: right;\n",
       "    }\n",
       "</style>\n",
       "<table border=\"1\" class=\"dataframe\">\n",
       "  <thead>\n",
       "    <tr style=\"text-align: right;\">\n",
       "      <th></th>\n",
       "      <th>FILM</th>\n",
       "      <th>STARS</th>\n",
       "      <th>RATING</th>\n",
       "      <th>VOTES</th>\n",
       "    </tr>\n",
       "  </thead>\n",
       "  <tbody>\n",
       "    <tr>\n",
       "      <th>0</th>\n",
       "      <td>Fifty Shades of Grey (2015)</td>\n",
       "      <td>4.0</td>\n",
       "      <td>3.9</td>\n",
       "      <td>34846</td>\n",
       "    </tr>\n",
       "    <tr>\n",
       "      <th>1</th>\n",
       "      <td>Jurassic World (2015)</td>\n",
       "      <td>4.5</td>\n",
       "      <td>4.5</td>\n",
       "      <td>34390</td>\n",
       "    </tr>\n",
       "    <tr>\n",
       "      <th>2</th>\n",
       "      <td>American Sniper (2015)</td>\n",
       "      <td>5.0</td>\n",
       "      <td>4.8</td>\n",
       "      <td>34085</td>\n",
       "    </tr>\n",
       "    <tr>\n",
       "      <th>3</th>\n",
       "      <td>Furious 7 (2015)</td>\n",
       "      <td>5.0</td>\n",
       "      <td>4.8</td>\n",
       "      <td>33538</td>\n",
       "    </tr>\n",
       "    <tr>\n",
       "      <th>4</th>\n",
       "      <td>Inside Out (2015)</td>\n",
       "      <td>4.5</td>\n",
       "      <td>4.5</td>\n",
       "      <td>15749</td>\n",
       "    </tr>\n",
       "  </tbody>\n",
       "</table>\n",
       "</div>"
      ],
      "text/plain": [
       "                          FILM  STARS  RATING  VOTES\n",
       "0  Fifty Shades of Grey (2015)    4.0     3.9  34846\n",
       "1        Jurassic World (2015)    4.5     4.5  34390\n",
       "2       American Sniper (2015)    5.0     4.8  34085\n",
       "3             Furious 7 (2015)    5.0     4.8  33538\n",
       "4            Inside Out (2015)    4.5     4.5  15749"
      ]
     },
     "execution_count": 118,
     "metadata": {},
     "output_type": "execute_result"
    }
   ],
   "source": [
    "fandango.head(5)"
   ]
  },
  {
   "cell_type": "code",
   "execution_count": 119,
   "metadata": {
    "id": "Kmto_0Mgn3t5",
    "outputId": "91fe2a71-046a-476f-fd2d-d5a22a01969b"
   },
   "outputs": [
    {
     "name": "stdout",
     "output_type": "stream",
     "text": [
      "<class 'pandas.core.frame.DataFrame'>\n",
      "RangeIndex: 504 entries, 0 to 503\n",
      "Data columns (total 4 columns):\n",
      " #   Column  Non-Null Count  Dtype  \n",
      "---  ------  --------------  -----  \n",
      " 0   FILM    504 non-null    object \n",
      " 1   STARS   504 non-null    float64\n",
      " 2   RATING  504 non-null    float64\n",
      " 3   VOTES   504 non-null    int64  \n",
      "dtypes: float64(2), int64(1), object(1)\n",
      "memory usage: 15.9+ KB\n"
     ]
    }
   ],
   "source": [
    "fandango.info()"
   ]
  },
  {
   "cell_type": "code",
   "execution_count": 120,
   "metadata": {
    "id": "F-_No46on3t6",
    "outputId": "1cee7a04-68fc-4314-f874-77369446498b"
   },
   "outputs": [
    {
     "data": {
      "text/html": [
       "<div>\n",
       "<style scoped>\n",
       "    .dataframe tbody tr th:only-of-type {\n",
       "        vertical-align: middle;\n",
       "    }\n",
       "\n",
       "    .dataframe tbody tr th {\n",
       "        vertical-align: top;\n",
       "    }\n",
       "\n",
       "    .dataframe thead th {\n",
       "        text-align: right;\n",
       "    }\n",
       "</style>\n",
       "<table border=\"1\" class=\"dataframe\">\n",
       "  <thead>\n",
       "    <tr style=\"text-align: right;\">\n",
       "      <th></th>\n",
       "      <th>STARS</th>\n",
       "      <th>RATING</th>\n",
       "      <th>VOTES</th>\n",
       "    </tr>\n",
       "  </thead>\n",
       "  <tbody>\n",
       "    <tr>\n",
       "      <th>count</th>\n",
       "      <td>504.000000</td>\n",
       "      <td>504.000000</td>\n",
       "      <td>504.000000</td>\n",
       "    </tr>\n",
       "    <tr>\n",
       "      <th>mean</th>\n",
       "      <td>3.558532</td>\n",
       "      <td>3.375794</td>\n",
       "      <td>1147.863095</td>\n",
       "    </tr>\n",
       "    <tr>\n",
       "      <th>std</th>\n",
       "      <td>1.563133</td>\n",
       "      <td>1.491223</td>\n",
       "      <td>3830.583136</td>\n",
       "    </tr>\n",
       "    <tr>\n",
       "      <th>min</th>\n",
       "      <td>0.000000</td>\n",
       "      <td>0.000000</td>\n",
       "      <td>0.000000</td>\n",
       "    </tr>\n",
       "    <tr>\n",
       "      <th>25%</th>\n",
       "      <td>3.500000</td>\n",
       "      <td>3.100000</td>\n",
       "      <td>3.000000</td>\n",
       "    </tr>\n",
       "    <tr>\n",
       "      <th>50%</th>\n",
       "      <td>4.000000</td>\n",
       "      <td>3.800000</td>\n",
       "      <td>18.500000</td>\n",
       "    </tr>\n",
       "    <tr>\n",
       "      <th>75%</th>\n",
       "      <td>4.500000</td>\n",
       "      <td>4.300000</td>\n",
       "      <td>189.750000</td>\n",
       "    </tr>\n",
       "    <tr>\n",
       "      <th>max</th>\n",
       "      <td>5.000000</td>\n",
       "      <td>5.000000</td>\n",
       "      <td>34846.000000</td>\n",
       "    </tr>\n",
       "  </tbody>\n",
       "</table>\n",
       "</div>"
      ],
      "text/plain": [
       "            STARS      RATING         VOTES\n",
       "count  504.000000  504.000000    504.000000\n",
       "mean     3.558532    3.375794   1147.863095\n",
       "std      1.563133    1.491223   3830.583136\n",
       "min      0.000000    0.000000      0.000000\n",
       "25%      3.500000    3.100000      3.000000\n",
       "50%      4.000000    3.800000     18.500000\n",
       "75%      4.500000    4.300000    189.750000\n",
       "max      5.000000    5.000000  34846.000000"
      ]
     },
     "execution_count": 120,
     "metadata": {},
     "output_type": "execute_result"
    }
   ],
   "source": [
    "fandango.describe()"
   ]
  },
  {
   "cell_type": "markdown",
   "metadata": {
    "id": "DGgwUZNmn3t6"
   },
   "source": [
    "**TASK: Let's explore the relationship between popularity of a film and its rating. Create a scatterplot showing the relationship between rating and votes. Feel free to edit visual styling to your preference.**"
   ]
  },
  {
   "cell_type": "code",
   "execution_count": 121,
   "metadata": {
    "id": "niszCWuwn3t7"
   },
   "outputs": [
    {
     "data": {
      "text/plain": [
       "<AxesSubplot:xlabel='RATING', ylabel='VOTES'>"
      ]
     },
     "execution_count": 121,
     "metadata": {},
     "output_type": "execute_result"
    },
    {
     "data": {
      "image/png": "[encoded data removed]",
      "text/plain": [
       "<Figure size 1080x360 with 1 Axes>"
      ]
     },
     "metadata": {
      "needs_background": "light"
     },
     "output_type": "display_data"
    }
   ],
   "source": [
    "plt.figure(figsize=(15,5))\n",
    "sns.scatterplot(x='RATING',y='VOTES',data=fandango)"
   ]
  },
  {
   "cell_type": "code",
   "execution_count": null,
   "metadata": {
    "id": "q5No8_D5n3t7",
    "outputId": "23e47b3d-9bf5-4842-b25e-73815e749e96"
   },
   "outputs": [],
   "source": []
  },
  {
   "cell_type": "markdown",
   "metadata": {
    "id": "acQIjfO_n3t7"
   },
   "source": [
    "**TASK: Calculate the correlation between the columns:**"
   ]
  },
  {
   "cell_type": "code",
   "execution_count": 122,
   "metadata": {
    "id": "Zk6Nguiwn3t8"
   },
   "outputs": [
    {
     "data": {
      "text/html": [
       "<div>\n",
       "<style scoped>\n",
       "    .dataframe tbody tr th:only-of-type {\n",
       "        vertical-align: middle;\n",
       "    }\n",
       "\n",
       "    .dataframe tbody tr th {\n",
       "        vertical-align: top;\n",
       "    }\n",
       "\n",
       "    .dataframe thead th {\n",
       "        text-align: right;\n",
       "    }\n",
       "</style>\n",
       "<table border=\"1\" class=\"dataframe\">\n",
       "  <thead>\n",
       "    <tr style=\"text-align: right;\">\n",
       "      <th></th>\n",
       "      <th>STARS</th>\n",
       "      <th>RATING</th>\n",
       "      <th>VOTES</th>\n",
       "    </tr>\n",
       "  </thead>\n",
       "  <tbody>\n",
       "    <tr>\n",
       "      <th>STARS</th>\n",
       "      <td>1.000000</td>\n",
       "      <td>0.994696</td>\n",
       "      <td>0.164218</td>\n",
       "    </tr>\n",
       "    <tr>\n",
       "      <th>RATING</th>\n",
       "      <td>0.994696</td>\n",
       "      <td>1.000000</td>\n",
       "      <td>0.163764</td>\n",
       "    </tr>\n",
       "    <tr>\n",
       "      <th>VOTES</th>\n",
       "      <td>0.164218</td>\n",
       "      <td>0.163764</td>\n",
       "      <td>1.000000</td>\n",
       "    </tr>\n",
       "  </tbody>\n",
       "</table>\n",
       "</div>"
      ],
      "text/plain": [
       "           STARS    RATING     VOTES\n",
       "STARS   1.000000  0.994696  0.164218\n",
       "RATING  0.994696  1.000000  0.163764\n",
       "VOTES   0.164218  0.163764  1.000000"
      ]
     },
     "execution_count": 122,
     "metadata": {},
     "output_type": "execute_result"
    }
   ],
   "source": [
    "fandango.corr()"
   ]
  },
  {
   "cell_type": "code",
   "execution_count": null,
   "metadata": {
    "id": "pFxGiax9n3t8",
    "outputId": "d4dc002c-8ecd-45fb-aa9c-6c60384820f3"
   },
   "outputs": [],
   "source": []
  },
  {
   "cell_type": "markdown",
   "metadata": {
    "id": "AiORziuCn3t8"
   },
   "source": [
    "**TASK: Assuming that every row in the FILM title column has the same format:**\n",
    "\n",
    "    Film Title Name (Year)\n",
    "    \n",
    "**Create a new column that is able to strip the year from the title strings and set this new column as YEAR**"
   ]
  },
  {
   "cell_type": "code",
   "execution_count": 123,
   "metadata": {
    "id": "UVNCKjf6n3t8"
   },
   "outputs": [
    {
     "data": {
      "text/html": [
       "<div>\n",
       "<style scoped>\n",
       "    .dataframe tbody tr th:only-of-type {\n",
       "        vertical-align: middle;\n",
       "    }\n",
       "\n",
       "    .dataframe tbody tr th {\n",
       "        vertical-align: top;\n",
       "    }\n",
       "\n",
       "    .dataframe thead th {\n",
       "        text-align: right;\n",
       "    }\n",
       "</style>\n",
       "<table border=\"1\" class=\"dataframe\">\n",
       "  <thead>\n",
       "    <tr style=\"text-align: right;\">\n",
       "      <th></th>\n",
       "      <th>FILM</th>\n",
       "      <th>STARS</th>\n",
       "      <th>RATING</th>\n",
       "      <th>VOTES</th>\n",
       "      <th>YEAR</th>\n",
       "    </tr>\n",
       "  </thead>\n",
       "  <tbody>\n",
       "    <tr>\n",
       "      <th>499</th>\n",
       "      <td>Valiyavan (2015)</td>\n",
       "      <td>0.0</td>\n",
       "      <td>0.0</td>\n",
       "      <td>0</td>\n",
       "      <td>2015</td>\n",
       "    </tr>\n",
       "    <tr>\n",
       "      <th>500</th>\n",
       "      <td>WWE SummerSlam 2015 (2015)</td>\n",
       "      <td>0.0</td>\n",
       "      <td>0.0</td>\n",
       "      <td>0</td>\n",
       "      <td>2015</td>\n",
       "    </tr>\n",
       "    <tr>\n",
       "      <th>501</th>\n",
       "      <td>Yagavarayinum Naa Kaakka (2015)</td>\n",
       "      <td>0.0</td>\n",
       "      <td>0.0</td>\n",
       "      <td>0</td>\n",
       "      <td>2015</td>\n",
       "    </tr>\n",
       "    <tr>\n",
       "      <th>502</th>\n",
       "      <td>Yesterday, Today and Tomorrow (1964)</td>\n",
       "      <td>0.0</td>\n",
       "      <td>0.0</td>\n",
       "      <td>0</td>\n",
       "      <td>1964</td>\n",
       "    </tr>\n",
       "    <tr>\n",
       "      <th>503</th>\n",
       "      <td>Zarafa (2012)</td>\n",
       "      <td>0.0</td>\n",
       "      <td>0.0</td>\n",
       "      <td>0</td>\n",
       "      <td>2012</td>\n",
       "    </tr>\n",
       "  </tbody>\n",
       "</table>\n",
       "</div>"
      ],
      "text/plain": [
       "                                     FILM  STARS  RATING  VOTES  YEAR\n",
       "499                      Valiyavan (2015)    0.0     0.0      0  2015\n",
       "500            WWE SummerSlam 2015 (2015)    0.0     0.0      0  2015\n",
       "501       Yagavarayinum Naa Kaakka (2015)    0.0     0.0      0  2015\n",
       "502  Yesterday, Today and Tomorrow (1964)    0.0     0.0      0  1964\n",
       "503                         Zarafa (2012)    0.0     0.0      0  2012"
      ]
     },
     "execution_count": 123,
     "metadata": {},
     "output_type": "execute_result"
    }
   ],
   "source": [
    "def film_year(year):\n",
    "    return str(year)[-5:-1]\n",
    "\n",
    "fandango['YEAR'] = fandango['FILM'].apply(film_year)\n",
    "fandango.tail()"
   ]
  },
  {
   "cell_type": "code",
   "execution_count": null,
   "metadata": {
    "id": "uzHxcFf3n3t9"
   },
   "outputs": [],
   "source": []
  },
  {
   "cell_type": "markdown",
   "metadata": {
    "id": "sXGNXbHNn3t9"
   },
   "source": [
    "**TASK: How many movies are in the Fandango DataFrame per year?**"
   ]
  },
  {
   "cell_type": "code",
   "execution_count": 124,
   "metadata": {
    "id": "fdMDgddln3t-"
   },
   "outputs": [
    {
     "data": {
      "text/plain": [
       "2015    478\n",
       "2014     23\n",
       "2016      1\n",
       "2012      1\n",
       "1964      1\n",
       "Name: YEAR, dtype: int64"
      ]
     },
     "execution_count": 124,
     "metadata": {},
     "output_type": "execute_result"
    }
   ],
   "source": [
    "fandango['YEAR'].value_counts()"
   ]
  },
  {
   "cell_type": "code",
   "execution_count": null,
   "metadata": {
    "id": "lhTCeXGTn3t-",
    "outputId": "4e31b82f-82bb-4040-b4e8-1c1ad163b39e"
   },
   "outputs": [],
   "source": []
  },
  {
   "cell_type": "markdown",
   "metadata": {
    "id": "TdDYYgr9n3t-"
   },
   "source": [
    "**TASK: Visualize the count of movies per year with a plot:**"
   ]
  },
  {
   "cell_type": "code",
   "execution_count": 125,
   "metadata": {
    "id": "wFQay7_xn3t-"
   },
   "outputs": [
    {
     "data": {
      "text/plain": [
       "<AxesSubplot:xlabel='YEAR', ylabel='count'>"
      ]
     },
     "execution_count": 125,
     "metadata": {},
     "output_type": "execute_result"
    },
    {
     "data": {
      "image/png": "[encoded data removed]",
      "text/plain": [
       "<Figure size 720x360 with 1 Axes>"
      ]
     },
     "metadata": {
      "needs_background": "light"
     },
     "output_type": "display_data"
    }
   ],
   "source": [
    "plt.figure(figsize=(10,5))\n",
    "sns.countplot(x='YEAR',data=fandango)"
   ]
  },
  {
   "cell_type": "code",
   "execution_count": null,
   "metadata": {
    "id": "w9-ELYRan3t-",
    "outputId": "e0131fc1-e2cd-4d24-afca-fc3fe535faf4"
   },
   "outputs": [],
   "source": []
  },
  {
   "cell_type": "markdown",
   "metadata": {
    "id": "-j96TVFgn3t-"
   },
   "source": [
    "**TASK: What are the 10 movies with the highest number of votes?**"
   ]
  },
  {
   "cell_type": "code",
   "execution_count": 126,
   "metadata": {
    "id": "E8bjKhkRn3t_"
   },
   "outputs": [
    {
     "data": {
      "text/html": [
       "<div>\n",
       "<style scoped>\n",
       "    .dataframe tbody tr th:only-of-type {\n",
       "        vertical-align: middle;\n",
       "    }\n",
       "\n",
       "    .dataframe tbody tr th {\n",
       "        vertical-align: top;\n",
       "    }\n",
       "\n",
       "    .dataframe thead th {\n",
       "        text-align: right;\n",
       "    }\n",
       "</style>\n",
       "<table border=\"1\" class=\"dataframe\">\n",
       "  <thead>\n",
       "    <tr style=\"text-align: right;\">\n",
       "      <th></th>\n",
       "      <th>FILM</th>\n",
       "      <th>STARS</th>\n",
       "      <th>RATING</th>\n",
       "      <th>VOTES</th>\n",
       "      <th>YEAR</th>\n",
       "    </tr>\n",
       "  </thead>\n",
       "  <tbody>\n",
       "    <tr>\n",
       "      <th>0</th>\n",
       "      <td>Fifty Shades of Grey (2015)</td>\n",
       "      <td>4.0</td>\n",
       "      <td>3.9</td>\n",
       "      <td>34846</td>\n",
       "      <td>2015</td>\n",
       "    </tr>\n",
       "    <tr>\n",
       "      <th>1</th>\n",
       "      <td>Jurassic World (2015)</td>\n",
       "      <td>4.5</td>\n",
       "      <td>4.5</td>\n",
       "      <td>34390</td>\n",
       "      <td>2015</td>\n",
       "    </tr>\n",
       "    <tr>\n",
       "      <th>2</th>\n",
       "      <td>American Sniper (2015)</td>\n",
       "      <td>5.0</td>\n",
       "      <td>4.8</td>\n",
       "      <td>34085</td>\n",
       "      <td>2015</td>\n",
       "    </tr>\n",
       "    <tr>\n",
       "      <th>3</th>\n",
       "      <td>Furious 7 (2015)</td>\n",
       "      <td>5.0</td>\n",
       "      <td>4.8</td>\n",
       "      <td>33538</td>\n",
       "      <td>2015</td>\n",
       "    </tr>\n",
       "    <tr>\n",
       "      <th>4</th>\n",
       "      <td>Inside Out (2015)</td>\n",
       "      <td>4.5</td>\n",
       "      <td>4.5</td>\n",
       "      <td>15749</td>\n",
       "      <td>2015</td>\n",
       "    </tr>\n",
       "    <tr>\n",
       "      <th>5</th>\n",
       "      <td>The Hobbit: The Battle of the Five Armies (2014)</td>\n",
       "      <td>4.5</td>\n",
       "      <td>4.3</td>\n",
       "      <td>15337</td>\n",
       "      <td>2014</td>\n",
       "    </tr>\n",
       "    <tr>\n",
       "      <th>6</th>\n",
       "      <td>Kingsman: The Secret Service (2015)</td>\n",
       "      <td>4.5</td>\n",
       "      <td>4.2</td>\n",
       "      <td>15205</td>\n",
       "      <td>2015</td>\n",
       "    </tr>\n",
       "    <tr>\n",
       "      <th>7</th>\n",
       "      <td>Minions (2015)</td>\n",
       "      <td>4.0</td>\n",
       "      <td>4.0</td>\n",
       "      <td>14998</td>\n",
       "      <td>2015</td>\n",
       "    </tr>\n",
       "    <tr>\n",
       "      <th>8</th>\n",
       "      <td>Avengers: Age of Ultron (2015)</td>\n",
       "      <td>5.0</td>\n",
       "      <td>4.5</td>\n",
       "      <td>14846</td>\n",
       "      <td>2015</td>\n",
       "    </tr>\n",
       "    <tr>\n",
       "      <th>9</th>\n",
       "      <td>Into the Woods (2014)</td>\n",
       "      <td>3.5</td>\n",
       "      <td>3.4</td>\n",
       "      <td>13055</td>\n",
       "      <td>2014</td>\n",
       "    </tr>\n",
       "  </tbody>\n",
       "</table>\n",
       "</div>"
      ],
      "text/plain": [
       "                                               FILM  STARS  RATING  VOTES  \\\n",
       "0                       Fifty Shades of Grey (2015)    4.0     3.9  34846   \n",
       "1                             Jurassic World (2015)    4.5     4.5  34390   \n",
       "2                            American Sniper (2015)    5.0     4.8  34085   \n",
       "3                                  Furious 7 (2015)    5.0     4.8  33538   \n",
       "4                                 Inside Out (2015)    4.5     4.5  15749   \n",
       "5  The Hobbit: The Battle of the Five Armies (2014)    4.5     4.3  15337   \n",
       "6               Kingsman: The Secret Service (2015)    4.5     4.2  15205   \n",
       "7                                    Minions (2015)    4.0     4.0  14998   \n",
       "8                    Avengers: Age of Ultron (2015)    5.0     4.5  14846   \n",
       "9                             Into the Woods (2014)    3.5     3.4  13055   \n",
       "\n",
       "   YEAR  \n",
       "0  2015  \n",
       "1  2015  \n",
       "2  2015  \n",
       "3  2015  \n",
       "4  2015  \n",
       "5  2014  \n",
       "6  2015  \n",
       "7  2015  \n",
       "8  2015  \n",
       "9  2014  "
      ]
     },
     "execution_count": 126,
     "metadata": {},
     "output_type": "execute_result"
    }
   ],
   "source": [
    "fandango.set_index('VOTES')\n",
    "fandango.head(10)"
   ]
  },
  {
   "cell_type": "code",
   "execution_count": null,
   "metadata": {
    "id": "PUA_JFKrn3t_",
    "outputId": "c73ab936-239c-4378-cfa7-fefa6b87dc7b"
   },
   "outputs": [],
   "source": []
  },
  {
   "cell_type": "markdown",
   "metadata": {
    "id": "ESXOIdsqn3t_"
   },
   "source": [
    "**TASK: How many movies have zero votes?**"
   ]
  },
  {
   "cell_type": "code",
   "execution_count": 127,
   "metadata": {
    "id": "_MkLlE0-n3uA"
   },
   "outputs": [
    {
     "data": {
      "text/plain": [
       "69"
      ]
     },
     "execution_count": 127,
     "metadata": {},
     "output_type": "execute_result"
    }
   ],
   "source": [
    "len(fandango[fandango['VOTES']==0])"
   ]
  },
  {
   "cell_type": "code",
   "execution_count": null,
   "metadata": {
    "id": "Puo8uwcvn3uA",
    "outputId": "6c86d267-31b4-40bd-ac11-e624038f4330"
   },
   "outputs": [],
   "source": []
  },
  {
   "cell_type": "markdown",
   "metadata": {
    "id": "0Ep4xK7mn3uA"
   },
   "source": [
    "**TASK: Create DataFrame of only reviewed films by removing any films that have zero votes.**"
   ]
  },
  {
   "cell_type": "code",
   "execution_count": 128,
   "metadata": {
    "id": "m8MLG0uWn3uA"
   },
   "outputs": [
    {
     "data": {
      "text/html": [
       "<div>\n",
       "<style scoped>\n",
       "    .dataframe tbody tr th:only-of-type {\n",
       "        vertical-align: middle;\n",
       "    }\n",
       "\n",
       "    .dataframe tbody tr th {\n",
       "        vertical-align: top;\n",
       "    }\n",
       "\n",
       "    .dataframe thead th {\n",
       "        text-align: right;\n",
       "    }\n",
       "</style>\n",
       "<table border=\"1\" class=\"dataframe\">\n",
       "  <thead>\n",
       "    <tr style=\"text-align: right;\">\n",
       "      <th></th>\n",
       "      <th>VOTES</th>\n",
       "      <th>FILM</th>\n",
       "      <th>STARS</th>\n",
       "      <th>RATING</th>\n",
       "      <th>YEAR</th>\n",
       "    </tr>\n",
       "  </thead>\n",
       "  <tbody>\n",
       "    <tr>\n",
       "      <th>0</th>\n",
       "      <td>34846</td>\n",
       "      <td>Fifty Shades of Grey (2015)</td>\n",
       "      <td>4.0</td>\n",
       "      <td>3.9</td>\n",
       "      <td>2015</td>\n",
       "    </tr>\n",
       "    <tr>\n",
       "      <th>1</th>\n",
       "      <td>34390</td>\n",
       "      <td>Jurassic World (2015)</td>\n",
       "      <td>4.5</td>\n",
       "      <td>4.5</td>\n",
       "      <td>2015</td>\n",
       "    </tr>\n",
       "    <tr>\n",
       "      <th>2</th>\n",
       "      <td>34085</td>\n",
       "      <td>American Sniper (2015)</td>\n",
       "      <td>5.0</td>\n",
       "      <td>4.8</td>\n",
       "      <td>2015</td>\n",
       "    </tr>\n",
       "    <tr>\n",
       "      <th>3</th>\n",
       "      <td>33538</td>\n",
       "      <td>Furious 7 (2015)</td>\n",
       "      <td>5.0</td>\n",
       "      <td>4.8</td>\n",
       "      <td>2015</td>\n",
       "    </tr>\n",
       "    <tr>\n",
       "      <th>4</th>\n",
       "      <td>15749</td>\n",
       "      <td>Inside Out (2015)</td>\n",
       "      <td>4.5</td>\n",
       "      <td>4.5</td>\n",
       "      <td>2015</td>\n",
       "    </tr>\n",
       "    <tr>\n",
       "      <th>...</th>\n",
       "      <td>...</td>\n",
       "      <td>...</td>\n",
       "      <td>...</td>\n",
       "      <td>...</td>\n",
       "      <td>...</td>\n",
       "    </tr>\n",
       "    <tr>\n",
       "      <th>430</th>\n",
       "      <td>1</td>\n",
       "      <td>That Sugar Film (2015)</td>\n",
       "      <td>5.0</td>\n",
       "      <td>5.0</td>\n",
       "      <td>2015</td>\n",
       "    </tr>\n",
       "    <tr>\n",
       "      <th>431</th>\n",
       "      <td>1</td>\n",
       "      <td>The Intern (2015)</td>\n",
       "      <td>5.0</td>\n",
       "      <td>5.0</td>\n",
       "      <td>2015</td>\n",
       "    </tr>\n",
       "    <tr>\n",
       "      <th>432</th>\n",
       "      <td>1</td>\n",
       "      <td>The Park Bench (2015)</td>\n",
       "      <td>5.0</td>\n",
       "      <td>5.0</td>\n",
       "      <td>2015</td>\n",
       "    </tr>\n",
       "    <tr>\n",
       "      <th>433</th>\n",
       "      <td>1</td>\n",
       "      <td>The Wanted 18 (2015)</td>\n",
       "      <td>5.0</td>\n",
       "      <td>5.0</td>\n",
       "      <td>2015</td>\n",
       "    </tr>\n",
       "    <tr>\n",
       "      <th>434</th>\n",
       "      <td>1</td>\n",
       "      <td>Z For Zachariah (2015)</td>\n",
       "      <td>5.0</td>\n",
       "      <td>5.0</td>\n",
       "      <td>2015</td>\n",
       "    </tr>\n",
       "  </tbody>\n",
       "</table>\n",
       "<p>435 rows × 5 columns</p>\n",
       "</div>"
      ],
      "text/plain": [
       "     VOTES                         FILM  STARS  RATING  YEAR\n",
       "0    34846  Fifty Shades of Grey (2015)    4.0     3.9  2015\n",
       "1    34390        Jurassic World (2015)    4.5     4.5  2015\n",
       "2    34085       American Sniper (2015)    5.0     4.8  2015\n",
       "3    33538             Furious 7 (2015)    5.0     4.8  2015\n",
       "4    15749            Inside Out (2015)    4.5     4.5  2015\n",
       "..     ...                          ...    ...     ...   ...\n",
       "430      1       That Sugar Film (2015)    5.0     5.0  2015\n",
       "431      1            The Intern (2015)    5.0     5.0  2015\n",
       "432      1        The Park Bench (2015)    5.0     5.0  2015\n",
       "433      1         The Wanted 18 (2015)    5.0     5.0  2015\n",
       "434      1       Z For Zachariah (2015)    5.0     5.0  2015\n",
       "\n",
       "[435 rows x 5 columns]"
      ]
     },
     "execution_count": 128,
     "metadata": {},
     "output_type": "execute_result"
    }
   ],
   "source": [
    "fandango_nonzero = fandango.set_index('VOTES')\n",
    "fandango_nonzero = fandango_nonzero.drop(0,axis=0)\n",
    "fandango_nonzero = fandango_nonzero.reset_index()\n",
    "fandango_nonzero"
   ]
  },
  {
   "cell_type": "code",
   "execution_count": null,
   "metadata": {
    "id": "ukZwPxIGn3uB"
   },
   "outputs": [],
   "source": []
  },
  {
   "cell_type": "markdown",
   "metadata": {
    "id": "fMlyyqQcn3uB"
   },
   "source": [
    "----\n",
    "\n",
    "**As noted in the article, due to HTML and star rating displays, the true user rating may be slightly different than the rating shown to a user. Let's visualize this difference in distributions.**\n",
    "\n",
    "**TASK: Create a KDE plot (or multiple kdeplots) that displays the distribution of ratings that are displayed (STARS) versus what the true rating was from votes (RATING). Clip the KDEs to 0-5.**"
   ]
  },
  {
   "cell_type": "code",
   "execution_count": 129,
   "metadata": {
    "id": "Q6oHjmpIn3uB"
   },
   "outputs": [
    {
     "data": {
      "image/png": "[encoded data removed]",
      "text/plain": [
       "<Figure size 1008x504 with 1 Axes>"
      ]
     },
     "metadata": {
      "needs_background": "light"
     },
     "output_type": "display_data"
    }
   ],
   "source": [
    "plt.figure(figsize=(14,7))\n",
    "ax = sns.kdeplot(data=fandango_nonzero[['RATING','STARS']],shade=True)\n",
    "plt.xlim(0,5)\n",
    "\n",
    "def move_legend(ax, new_loc, **kws):\n",
    "    old_legend = ax.legend_\n",
    "    handles = old_legend.legendHandles\n",
    "    labels = [t.get_text() for t in old_legend.get_texts()]\n",
    "    title = old_legend.get_title().get_text()\n",
    "    ax.legend(handles, labels, loc=new_loc, title=title, **kws)\n",
    "    \n",
    "move_legend(ax, \"upper left\")"
   ]
  },
  {
   "cell_type": "code",
   "execution_count": null,
   "metadata": {
    "id": "gmYTS9Umn3uB",
    "outputId": "040a5dd7-adf8-437f-aaed-f5a521d2aa41"
   },
   "outputs": [],
   "source": []
  },
  {
   "cell_type": "markdown",
   "metadata": {
    "id": "curEiWX-n3uB"
   },
   "source": [
    "**TASK: Let's now actually quantify this discrepancy. Create a new column of the different between STARS displayed versus true RATING. Calculate this difference with STARS-RATING and round these differences to the nearest decimal point.**"
   ]
  },
  {
   "cell_type": "code",
   "execution_count": 130,
   "metadata": {
    "id": "qHHDJWKOn3uC"
   },
   "outputs": [
    {
     "data": {
      "text/html": [
       "<div>\n",
       "<style scoped>\n",
       "    .dataframe tbody tr th:only-of-type {\n",
       "        vertical-align: middle;\n",
       "    }\n",
       "\n",
       "    .dataframe tbody tr th {\n",
       "        vertical-align: top;\n",
       "    }\n",
       "\n",
       "    .dataframe thead th {\n",
       "        text-align: right;\n",
       "    }\n",
       "</style>\n",
       "<table border=\"1\" class=\"dataframe\">\n",
       "  <thead>\n",
       "    <tr style=\"text-align: right;\">\n",
       "      <th></th>\n",
       "      <th>VOTES</th>\n",
       "      <th>FILM</th>\n",
       "      <th>STARS</th>\n",
       "      <th>RATING</th>\n",
       "      <th>YEAR</th>\n",
       "      <th>STARS_DIFF</th>\n",
       "    </tr>\n",
       "  </thead>\n",
       "  <tbody>\n",
       "    <tr>\n",
       "      <th>0</th>\n",
       "      <td>34846</td>\n",
       "      <td>Fifty Shades of Grey (2015)</td>\n",
       "      <td>4.0</td>\n",
       "      <td>3.9</td>\n",
       "      <td>2015</td>\n",
       "      <td>0.1</td>\n",
       "    </tr>\n",
       "    <tr>\n",
       "      <th>1</th>\n",
       "      <td>34390</td>\n",
       "      <td>Jurassic World (2015)</td>\n",
       "      <td>4.5</td>\n",
       "      <td>4.5</td>\n",
       "      <td>2015</td>\n",
       "      <td>0.0</td>\n",
       "    </tr>\n",
       "    <tr>\n",
       "      <th>2</th>\n",
       "      <td>34085</td>\n",
       "      <td>American Sniper (2015)</td>\n",
       "      <td>5.0</td>\n",
       "      <td>4.8</td>\n",
       "      <td>2015</td>\n",
       "      <td>0.2</td>\n",
       "    </tr>\n",
       "    <tr>\n",
       "      <th>3</th>\n",
       "      <td>33538</td>\n",
       "      <td>Furious 7 (2015)</td>\n",
       "      <td>5.0</td>\n",
       "      <td>4.8</td>\n",
       "      <td>2015</td>\n",
       "      <td>0.2</td>\n",
       "    </tr>\n",
       "    <tr>\n",
       "      <th>4</th>\n",
       "      <td>15749</td>\n",
       "      <td>Inside Out (2015)</td>\n",
       "      <td>4.5</td>\n",
       "      <td>4.5</td>\n",
       "      <td>2015</td>\n",
       "      <td>0.0</td>\n",
       "    </tr>\n",
       "    <tr>\n",
       "      <th>...</th>\n",
       "      <td>...</td>\n",
       "      <td>...</td>\n",
       "      <td>...</td>\n",
       "      <td>...</td>\n",
       "      <td>...</td>\n",
       "      <td>...</td>\n",
       "    </tr>\n",
       "    <tr>\n",
       "      <th>430</th>\n",
       "      <td>1</td>\n",
       "      <td>That Sugar Film (2015)</td>\n",
       "      <td>5.0</td>\n",
       "      <td>5.0</td>\n",
       "      <td>2015</td>\n",
       "      <td>0.0</td>\n",
       "    </tr>\n",
       "    <tr>\n",
       "      <th>431</th>\n",
       "      <td>1</td>\n",
       "      <td>The Intern (2015)</td>\n",
       "      <td>5.0</td>\n",
       "      <td>5.0</td>\n",
       "      <td>2015</td>\n",
       "      <td>0.0</td>\n",
       "    </tr>\n",
       "    <tr>\n",
       "      <th>432</th>\n",
       "      <td>1</td>\n",
       "      <td>The Park Bench (2015)</td>\n",
       "      <td>5.0</td>\n",
       "      <td>5.0</td>\n",
       "      <td>2015</td>\n",
       "      <td>0.0</td>\n",
       "    </tr>\n",
       "    <tr>\n",
       "      <th>433</th>\n",
       "      <td>1</td>\n",
       "      <td>The Wanted 18 (2015)</td>\n",
       "      <td>5.0</td>\n",
       "      <td>5.0</td>\n",
       "      <td>2015</td>\n",
       "      <td>0.0</td>\n",
       "    </tr>\n",
       "    <tr>\n",
       "      <th>434</th>\n",
       "      <td>1</td>\n",
       "      <td>Z For Zachariah (2015)</td>\n",
       "      <td>5.0</td>\n",
       "      <td>5.0</td>\n",
       "      <td>2015</td>\n",
       "      <td>0.0</td>\n",
       "    </tr>\n",
       "  </tbody>\n",
       "</table>\n",
       "<p>435 rows × 6 columns</p>\n",
       "</div>"
      ],
      "text/plain": [
       "     VOTES                         FILM  STARS  RATING  YEAR  STARS_DIFF\n",
       "0    34846  Fifty Shades of Grey (2015)    4.0     3.9  2015         0.1\n",
       "1    34390        Jurassic World (2015)    4.5     4.5  2015         0.0\n",
       "2    34085       American Sniper (2015)    5.0     4.8  2015         0.2\n",
       "3    33538             Furious 7 (2015)    5.0     4.8  2015         0.2\n",
       "4    15749            Inside Out (2015)    4.5     4.5  2015         0.0\n",
       "..     ...                          ...    ...     ...   ...         ...\n",
       "430      1       That Sugar Film (2015)    5.0     5.0  2015         0.0\n",
       "431      1            The Intern (2015)    5.0     5.0  2015         0.0\n",
       "432      1        The Park Bench (2015)    5.0     5.0  2015         0.0\n",
       "433      1         The Wanted 18 (2015)    5.0     5.0  2015         0.0\n",
       "434      1       Z For Zachariah (2015)    5.0     5.0  2015         0.0\n",
       "\n",
       "[435 rows x 6 columns]"
      ]
     },
     "execution_count": 130,
     "metadata": {},
     "output_type": "execute_result"
    }
   ],
   "source": [
    "fandango_nonzero['STARS_DIFF'] = np.round(fandango_nonzero['STARS'] - fandango_nonzero['RATING'],1)\n",
    "fandango_nonzero"
   ]
  },
  {
   "cell_type": "code",
   "execution_count": null,
   "metadata": {
    "id": "fTi8EH1un3uC"
   },
   "outputs": [],
   "source": []
  },
  {
   "cell_type": "code",
   "execution_count": null,
   "metadata": {
    "id": "D2BhEmsan3uC",
    "outputId": "a0b4b16a-bce9-4bbb-fef5-4cb827732d70"
   },
   "outputs": [],
   "source": []
  },
  {
   "cell_type": "markdown",
   "metadata": {
    "id": "en6vNT-Tn3uC"
   },
   "source": [
    "**TASK: Create a count plot to display the number of times a certain difference occurs:**"
   ]
  },
  {
   "cell_type": "code",
   "execution_count": 131,
   "metadata": {
    "id": "HroMDhWmn3uD"
   },
   "outputs": [
    {
     "data": {
      "text/plain": [
       "<AxesSubplot:xlabel='STARS_DIFF', ylabel='count'>"
      ]
     },
     "execution_count": 131,
     "metadata": {},
     "output_type": "execute_result"
    },
    {
     "data": {
      "image/png": "[encoded data removed]",
      "text/plain": [
       "<Figure size 1008x504 with 1 Axes>"
      ]
     },
     "metadata": {
      "needs_background": "light"
     },
     "output_type": "display_data"
    }
   ],
   "source": [
    "plt.figure(figsize=(14,7))\n",
    "sns.countplot(x='STARS_DIFF',data=fandango_nonzero, palette='magma')"
   ]
  },
  {
   "cell_type": "code",
   "execution_count": null,
   "metadata": {
    "id": "zGpJh5q7n3uD",
    "outputId": "1dc90da8-1d87-4baf-e066-a1774e4f3a1a"
   },
   "outputs": [],
   "source": []
  },
  {
   "cell_type": "markdown",
   "metadata": {
    "id": "x6QLe46Nn3uD"
   },
   "source": [
    "**TASK: We can see from the plot that one movie was displaying over a 1 star difference than its true rating! What movie had this close to 1 star differential?**"
   ]
  },
  {
   "cell_type": "code",
   "execution_count": 132,
   "metadata": {
    "id": "LQPF_9HCn3uE"
   },
   "outputs": [
    {
     "data": {
      "text/html": [
       "<div>\n",
       "<style scoped>\n",
       "    .dataframe tbody tr th:only-of-type {\n",
       "        vertical-align: middle;\n",
       "    }\n",
       "\n",
       "    .dataframe tbody tr th {\n",
       "        vertical-align: top;\n",
       "    }\n",
       "\n",
       "    .dataframe thead th {\n",
       "        text-align: right;\n",
       "    }\n",
       "</style>\n",
       "<table border=\"1\" class=\"dataframe\">\n",
       "  <thead>\n",
       "    <tr style=\"text-align: right;\">\n",
       "      <th></th>\n",
       "      <th>VOTES</th>\n",
       "      <th>FILM</th>\n",
       "      <th>STARS</th>\n",
       "      <th>RATING</th>\n",
       "      <th>YEAR</th>\n",
       "      <th>STARS_DIFF</th>\n",
       "    </tr>\n",
       "  </thead>\n",
       "  <tbody>\n",
       "    <tr>\n",
       "      <th>381</th>\n",
       "      <td>2</td>\n",
       "      <td>Turbo Kid (2015)</td>\n",
       "      <td>5.0</td>\n",
       "      <td>4.0</td>\n",
       "      <td>2015</td>\n",
       "      <td>1.0</td>\n",
       "    </tr>\n",
       "  </tbody>\n",
       "</table>\n",
       "</div>"
      ],
      "text/plain": [
       "     VOTES              FILM  STARS  RATING  YEAR  STARS_DIFF\n",
       "381      2  Turbo Kid (2015)    5.0     4.0  2015         1.0"
      ]
     },
     "execution_count": 132,
     "metadata": {},
     "output_type": "execute_result"
    }
   ],
   "source": [
    "fandango_nonzero[fandango_nonzero['STARS_DIFF']>=1]"
   ]
  },
  {
   "cell_type": "code",
   "execution_count": null,
   "metadata": {
    "id": "IkcEDJVsn3uE",
    "outputId": "afc3aa71-52eb-474c-d5f7-562313de0010"
   },
   "outputs": [],
   "source": []
  },
  {
   "cell_type": "markdown",
   "metadata": {
    "id": "7yPr662pn3uE"
   },
   "source": [
    "## Part Three: Comparison of Fandango Ratings to Other Sites\n",
    "\n",
    "Let's now compare the scores from Fandango to other movies sites and see how they compare.\n",
    "\n",
    "**TASK: Read in the \"all_sites_scores.csv\" file by running the cell below**"
   ]
  },
  {
   "cell_type": "code",
   "execution_count": 133,
   "metadata": {
    "id": "1AfqQmhpn3uE"
   },
   "outputs": [],
   "source": [
    "all_sites = pd.read_csv(\"all_sites_scores.csv\")"
   ]
  },
  {
   "cell_type": "markdown",
   "metadata": {
    "id": "v8Yxw07Xn3uF"
   },
   "source": [
    "**TASK: Explore the DataFrame columns, info, description.**"
   ]
  },
  {
   "cell_type": "code",
   "execution_count": null,
   "metadata": {
    "id": "rThu5HGWn3uF"
   },
   "outputs": [],
   "source": []
  },
  {
   "cell_type": "code",
   "execution_count": 134,
   "metadata": {
    "id": "RLaiNnsMn3uF",
    "outputId": "81647655-3364-492f-ce91-f1171927190f"
   },
   "outputs": [
    {
     "data": {
      "text/html": [
       "<div>\n",
       "<style scoped>\n",
       "    .dataframe tbody tr th:only-of-type {\n",
       "        vertical-align: middle;\n",
       "    }\n",
       "\n",
       "    .dataframe tbody tr th {\n",
       "        vertical-align: top;\n",
       "    }\n",
       "\n",
       "    .dataframe thead th {\n",
       "        text-align: right;\n",
       "    }\n",
       "</style>\n",
       "<table border=\"1\" class=\"dataframe\">\n",
       "  <thead>\n",
       "    <tr style=\"text-align: right;\">\n",
       "      <th></th>\n",
       "      <th>FILM</th>\n",
       "      <th>RottenTomatoes</th>\n",
       "      <th>RottenTomatoes_User</th>\n",
       "      <th>Metacritic</th>\n",
       "      <th>Metacritic_User</th>\n",
       "      <th>IMDB</th>\n",
       "      <th>Metacritic_user_vote_count</th>\n",
       "      <th>IMDB_user_vote_count</th>\n",
       "    </tr>\n",
       "  </thead>\n",
       "  <tbody>\n",
       "    <tr>\n",
       "      <th>0</th>\n",
       "      <td>Avengers: Age of Ultron (2015)</td>\n",
       "      <td>74</td>\n",
       "      <td>86</td>\n",
       "      <td>66</td>\n",
       "      <td>7.1</td>\n",
       "      <td>7.8</td>\n",
       "      <td>1330</td>\n",
       "      <td>271107</td>\n",
       "    </tr>\n",
       "    <tr>\n",
       "      <th>1</th>\n",
       "      <td>Cinderella (2015)</td>\n",
       "      <td>85</td>\n",
       "      <td>80</td>\n",
       "      <td>67</td>\n",
       "      <td>7.5</td>\n",
       "      <td>7.1</td>\n",
       "      <td>249</td>\n",
       "      <td>65709</td>\n",
       "    </tr>\n",
       "    <tr>\n",
       "      <th>2</th>\n",
       "      <td>Ant-Man (2015)</td>\n",
       "      <td>80</td>\n",
       "      <td>90</td>\n",
       "      <td>64</td>\n",
       "      <td>8.1</td>\n",
       "      <td>7.8</td>\n",
       "      <td>627</td>\n",
       "      <td>103660</td>\n",
       "    </tr>\n",
       "    <tr>\n",
       "      <th>3</th>\n",
       "      <td>Do You Believe? (2015)</td>\n",
       "      <td>18</td>\n",
       "      <td>84</td>\n",
       "      <td>22</td>\n",
       "      <td>4.7</td>\n",
       "      <td>5.4</td>\n",
       "      <td>31</td>\n",
       "      <td>3136</td>\n",
       "    </tr>\n",
       "    <tr>\n",
       "      <th>4</th>\n",
       "      <td>Hot Tub Time Machine 2 (2015)</td>\n",
       "      <td>14</td>\n",
       "      <td>28</td>\n",
       "      <td>29</td>\n",
       "      <td>3.4</td>\n",
       "      <td>5.1</td>\n",
       "      <td>88</td>\n",
       "      <td>19560</td>\n",
       "    </tr>\n",
       "  </tbody>\n",
       "</table>\n",
       "</div>"
      ],
      "text/plain": [
       "                             FILM  RottenTomatoes  RottenTomatoes_User  \\\n",
       "0  Avengers: Age of Ultron (2015)              74                   86   \n",
       "1               Cinderella (2015)              85                   80   \n",
       "2                  Ant-Man (2015)              80                   90   \n",
       "3          Do You Believe? (2015)              18                   84   \n",
       "4   Hot Tub Time Machine 2 (2015)              14                   28   \n",
       "\n",
       "   Metacritic  Metacritic_User  IMDB  Metacritic_user_vote_count  \\\n",
       "0          66              7.1   7.8                        1330   \n",
       "1          67              7.5   7.1                         249   \n",
       "2          64              8.1   7.8                         627   \n",
       "3          22              4.7   5.4                          31   \n",
       "4          29              3.4   5.1                          88   \n",
       "\n",
       "   IMDB_user_vote_count  \n",
       "0                271107  \n",
       "1                 65709  \n",
       "2                103660  \n",
       "3                  3136  \n",
       "4                 19560  "
      ]
     },
     "execution_count": 134,
     "metadata": {},
     "output_type": "execute_result"
    }
   ],
   "source": [
    "all_sites.head()"
   ]
  },
  {
   "cell_type": "code",
   "execution_count": 135,
   "metadata": {
    "id": "5b7GifPDn3uF",
    "outputId": "44bb83d8-6525-4e51-9dbb-a7d49f43cd69"
   },
   "outputs": [
    {
     "name": "stdout",
     "output_type": "stream",
     "text": [
      "<class 'pandas.core.frame.DataFrame'>\n",
      "RangeIndex: 146 entries, 0 to 145\n",
      "Data columns (total 8 columns):\n",
      " #   Column                      Non-Null Count  Dtype  \n",
      "---  ------                      --------------  -----  \n",
      " 0   FILM                        146 non-null    object \n",
      " 1   RottenTomatoes              146 non-null    int64  \n",
      " 2   RottenTomatoes_User         146 non-null    int64  \n",
      " 3   Metacritic                  146 non-null    int64  \n",
      " 4   Metacritic_User             146 non-null    float64\n",
      " 5   IMDB                        146 non-null    float64\n",
      " 6   Metacritic_user_vote_count  146 non-null    int64  \n",
      " 7   IMDB_user_vote_count        146 non-null    int64  \n",
      "dtypes: float64(2), int64(5), object(1)\n",
      "memory usage: 9.2+ KB\n"
     ]
    }
   ],
   "source": [
    "all_sites.info()"
   ]
  },
  {
   "cell_type": "code",
   "execution_count": 136,
   "metadata": {
    "id": "1VWJh03En3uG",
    "outputId": "bb32499a-96fa-4800-acde-7e4f2bfc1272"
   },
   "outputs": [
    {
     "data": {
      "text/html": [
       "<div>\n",
       "<style scoped>\n",
       "    .dataframe tbody tr th:only-of-type {\n",
       "        vertical-align: middle;\n",
       "    }\n",
       "\n",
       "    .dataframe tbody tr th {\n",
       "        vertical-align: top;\n",
       "    }\n",
       "\n",
       "    .dataframe thead th {\n",
       "        text-align: right;\n",
       "    }\n",
       "</style>\n",
       "<table border=\"1\" class=\"dataframe\">\n",
       "  <thead>\n",
       "    <tr style=\"text-align: right;\">\n",
       "      <th></th>\n",
       "      <th>RottenTomatoes</th>\n",
       "      <th>RottenTomatoes_User</th>\n",
       "      <th>Metacritic</th>\n",
       "      <th>Metacritic_User</th>\n",
       "      <th>IMDB</th>\n",
       "      <th>Metacritic_user_vote_count</th>\n",
       "      <th>IMDB_user_vote_count</th>\n",
       "    </tr>\n",
       "  </thead>\n",
       "  <tbody>\n",
       "    <tr>\n",
       "      <th>count</th>\n",
       "      <td>146.000000</td>\n",
       "      <td>146.000000</td>\n",
       "      <td>146.000000</td>\n",
       "      <td>146.000000</td>\n",
       "      <td>146.000000</td>\n",
       "      <td>146.000000</td>\n",
       "      <td>146.000000</td>\n",
       "    </tr>\n",
       "    <tr>\n",
       "      <th>mean</th>\n",
       "      <td>60.849315</td>\n",
       "      <td>63.876712</td>\n",
       "      <td>58.808219</td>\n",
       "      <td>6.519178</td>\n",
       "      <td>6.736986</td>\n",
       "      <td>185.705479</td>\n",
       "      <td>42846.205479</td>\n",
       "    </tr>\n",
       "    <tr>\n",
       "      <th>std</th>\n",
       "      <td>30.168799</td>\n",
       "      <td>20.024430</td>\n",
       "      <td>19.517389</td>\n",
       "      <td>1.510712</td>\n",
       "      <td>0.958736</td>\n",
       "      <td>316.606515</td>\n",
       "      <td>67406.509171</td>\n",
       "    </tr>\n",
       "    <tr>\n",
       "      <th>min</th>\n",
       "      <td>5.000000</td>\n",
       "      <td>20.000000</td>\n",
       "      <td>13.000000</td>\n",
       "      <td>2.400000</td>\n",
       "      <td>4.000000</td>\n",
       "      <td>4.000000</td>\n",
       "      <td>243.000000</td>\n",
       "    </tr>\n",
       "    <tr>\n",
       "      <th>25%</th>\n",
       "      <td>31.250000</td>\n",
       "      <td>50.000000</td>\n",
       "      <td>43.500000</td>\n",
       "      <td>5.700000</td>\n",
       "      <td>6.300000</td>\n",
       "      <td>33.250000</td>\n",
       "      <td>5627.000000</td>\n",
       "    </tr>\n",
       "    <tr>\n",
       "      <th>50%</th>\n",
       "      <td>63.500000</td>\n",
       "      <td>66.500000</td>\n",
       "      <td>59.000000</td>\n",
       "      <td>6.850000</td>\n",
       "      <td>6.900000</td>\n",
       "      <td>72.500000</td>\n",
       "      <td>19103.000000</td>\n",
       "    </tr>\n",
       "    <tr>\n",
       "      <th>75%</th>\n",
       "      <td>89.000000</td>\n",
       "      <td>81.000000</td>\n",
       "      <td>75.000000</td>\n",
       "      <td>7.500000</td>\n",
       "      <td>7.400000</td>\n",
       "      <td>168.500000</td>\n",
       "      <td>45185.750000</td>\n",
       "    </tr>\n",
       "    <tr>\n",
       "      <th>max</th>\n",
       "      <td>100.000000</td>\n",
       "      <td>94.000000</td>\n",
       "      <td>94.000000</td>\n",
       "      <td>9.600000</td>\n",
       "      <td>8.600000</td>\n",
       "      <td>2375.000000</td>\n",
       "      <td>334164.000000</td>\n",
       "    </tr>\n",
       "  </tbody>\n",
       "</table>\n",
       "</div>"
      ],
      "text/plain": [
       "       RottenTomatoes  RottenTomatoes_User  Metacritic  Metacritic_User  \\\n",
       "count      146.000000           146.000000  146.000000       146.000000   \n",
       "mean        60.849315            63.876712   58.808219         6.519178   \n",
       "std         30.168799            20.024430   19.517389         1.510712   \n",
       "min          5.000000            20.000000   13.000000         2.400000   \n",
       "25%         31.250000            50.000000   43.500000         5.700000   \n",
       "50%         63.500000            66.500000   59.000000         6.850000   \n",
       "75%         89.000000            81.000000   75.000000         7.500000   \n",
       "max        100.000000            94.000000   94.000000         9.600000   \n",
       "\n",
       "             IMDB  Metacritic_user_vote_count  IMDB_user_vote_count  \n",
       "count  146.000000                  146.000000            146.000000  \n",
       "mean     6.736986                  185.705479          42846.205479  \n",
       "std      0.958736                  316.606515          67406.509171  \n",
       "min      4.000000                    4.000000            243.000000  \n",
       "25%      6.300000                   33.250000           5627.000000  \n",
       "50%      6.900000                   72.500000          19103.000000  \n",
       "75%      7.400000                  168.500000          45185.750000  \n",
       "max      8.600000                 2375.000000         334164.000000  "
      ]
     },
     "execution_count": 136,
     "metadata": {},
     "output_type": "execute_result"
    }
   ],
   "source": [
    "all_sites.describe()"
   ]
  },
  {
   "cell_type": "markdown",
   "metadata": {
    "id": "d_aPBvupn3uG"
   },
   "source": [
    "### Rotten Tomatoes\n",
    "\n",
    "Let's first take a look at Rotten Tomatoes. RT has two sets of reviews, their critics reviews (ratings published by official critics) and user reviews. \n",
    "\n",
    "**TASK: Create a scatterplot exploring the relationship between RT Critic reviews and RT User reviews.**"
   ]
  },
  {
   "cell_type": "code",
   "execution_count": 137,
   "metadata": {
    "id": "wX_Pmvj1n3uG"
   },
   "outputs": [
    {
     "data": {
      "image/png": "[encoded data removed]",
      "text/plain": [
       "<Figure size 1008x504 with 1 Axes>"
      ]
     },
     "metadata": {
      "needs_background": "light"
     },
     "output_type": "display_data"
    }
   ],
   "source": [
    "plt.figure(figsize=(14,7))\n",
    "sns.scatterplot(x='RottenTomatoes',y='RottenTomatoes_User',data=all_sites);"
   ]
  },
  {
   "cell_type": "code",
   "execution_count": null,
   "metadata": {
    "id": "y031D-lon3uG",
    "outputId": "97608981-f067-4ed9-b113-6c1e5e0d0233"
   },
   "outputs": [],
   "source": []
  },
  {
   "cell_type": "markdown",
   "metadata": {
    "id": "mYWw4Idcn3uH"
   },
   "source": [
    "Let's quantify this difference by comparing the critics ratings and the RT User ratings. We will calculate this with RottenTomatoes-RottenTomatoes_User. Note: Rotten_Diff here is Critics - User Score. So values closer to 0 means aggrement between Critics and Users. Larger positive values means critics rated much higher than users. Larger negative values means users rated much higher than critics.\n",
    "\n",
    "**TASK: Create a new column based off the difference between critics ratings and users ratings for Rotten Tomatoes. Calculate this with RottenTomatoes-RottenTomatoes_User**"
   ]
  },
  {
   "cell_type": "code",
   "execution_count": 138,
   "metadata": {
    "id": "RGQMlkmcn3uH"
   },
   "outputs": [
    {
     "data": {
      "text/html": [
       "<div>\n",
       "<style scoped>\n",
       "    .dataframe tbody tr th:only-of-type {\n",
       "        vertical-align: middle;\n",
       "    }\n",
       "\n",
       "    .dataframe tbody tr th {\n",
       "        vertical-align: top;\n",
       "    }\n",
       "\n",
       "    .dataframe thead th {\n",
       "        text-align: right;\n",
       "    }\n",
       "</style>\n",
       "<table border=\"1\" class=\"dataframe\">\n",
       "  <thead>\n",
       "    <tr style=\"text-align: right;\">\n",
       "      <th></th>\n",
       "      <th>FILM</th>\n",
       "      <th>RottenTomatoes</th>\n",
       "      <th>RottenTomatoes_User</th>\n",
       "      <th>Metacritic</th>\n",
       "      <th>Metacritic_User</th>\n",
       "      <th>IMDB</th>\n",
       "      <th>Metacritic_user_vote_count</th>\n",
       "      <th>IMDB_user_vote_count</th>\n",
       "      <th>Rotten_Diff</th>\n",
       "    </tr>\n",
       "  </thead>\n",
       "  <tbody>\n",
       "    <tr>\n",
       "      <th>0</th>\n",
       "      <td>Avengers: Age of Ultron (2015)</td>\n",
       "      <td>74</td>\n",
       "      <td>86</td>\n",
       "      <td>66</td>\n",
       "      <td>7.1</td>\n",
       "      <td>7.8</td>\n",
       "      <td>1330</td>\n",
       "      <td>271107</td>\n",
       "      <td>-12</td>\n",
       "    </tr>\n",
       "    <tr>\n",
       "      <th>1</th>\n",
       "      <td>Cinderella (2015)</td>\n",
       "      <td>85</td>\n",
       "      <td>80</td>\n",
       "      <td>67</td>\n",
       "      <td>7.5</td>\n",
       "      <td>7.1</td>\n",
       "      <td>249</td>\n",
       "      <td>65709</td>\n",
       "      <td>5</td>\n",
       "    </tr>\n",
       "    <tr>\n",
       "      <th>2</th>\n",
       "      <td>Ant-Man (2015)</td>\n",
       "      <td>80</td>\n",
       "      <td>90</td>\n",
       "      <td>64</td>\n",
       "      <td>8.1</td>\n",
       "      <td>7.8</td>\n",
       "      <td>627</td>\n",
       "      <td>103660</td>\n",
       "      <td>-10</td>\n",
       "    </tr>\n",
       "    <tr>\n",
       "      <th>3</th>\n",
       "      <td>Do You Believe? (2015)</td>\n",
       "      <td>18</td>\n",
       "      <td>84</td>\n",
       "      <td>22</td>\n",
       "      <td>4.7</td>\n",
       "      <td>5.4</td>\n",
       "      <td>31</td>\n",
       "      <td>3136</td>\n",
       "      <td>-66</td>\n",
       "    </tr>\n",
       "    <tr>\n",
       "      <th>4</th>\n",
       "      <td>Hot Tub Time Machine 2 (2015)</td>\n",
       "      <td>14</td>\n",
       "      <td>28</td>\n",
       "      <td>29</td>\n",
       "      <td>3.4</td>\n",
       "      <td>5.1</td>\n",
       "      <td>88</td>\n",
       "      <td>19560</td>\n",
       "      <td>-14</td>\n",
       "    </tr>\n",
       "    <tr>\n",
       "      <th>...</th>\n",
       "      <td>...</td>\n",
       "      <td>...</td>\n",
       "      <td>...</td>\n",
       "      <td>...</td>\n",
       "      <td>...</td>\n",
       "      <td>...</td>\n",
       "      <td>...</td>\n",
       "      <td>...</td>\n",
       "      <td>...</td>\n",
       "    </tr>\n",
       "    <tr>\n",
       "      <th>141</th>\n",
       "      <td>Mr. Holmes (2015)</td>\n",
       "      <td>87</td>\n",
       "      <td>78</td>\n",
       "      <td>67</td>\n",
       "      <td>7.9</td>\n",
       "      <td>7.4</td>\n",
       "      <td>33</td>\n",
       "      <td>7367</td>\n",
       "      <td>9</td>\n",
       "    </tr>\n",
       "    <tr>\n",
       "      <th>142</th>\n",
       "      <td>71 (2015)</td>\n",
       "      <td>97</td>\n",
       "      <td>82</td>\n",
       "      <td>83</td>\n",
       "      <td>7.5</td>\n",
       "      <td>7.2</td>\n",
       "      <td>60</td>\n",
       "      <td>24116</td>\n",
       "      <td>15</td>\n",
       "    </tr>\n",
       "    <tr>\n",
       "      <th>143</th>\n",
       "      <td>Two Days, One Night (2014)</td>\n",
       "      <td>97</td>\n",
       "      <td>78</td>\n",
       "      <td>89</td>\n",
       "      <td>8.8</td>\n",
       "      <td>7.4</td>\n",
       "      <td>123</td>\n",
       "      <td>24345</td>\n",
       "      <td>19</td>\n",
       "    </tr>\n",
       "    <tr>\n",
       "      <th>144</th>\n",
       "      <td>Gett: The Trial of Viviane Amsalem (2015)</td>\n",
       "      <td>100</td>\n",
       "      <td>81</td>\n",
       "      <td>90</td>\n",
       "      <td>7.3</td>\n",
       "      <td>7.8</td>\n",
       "      <td>19</td>\n",
       "      <td>1955</td>\n",
       "      <td>19</td>\n",
       "    </tr>\n",
       "    <tr>\n",
       "      <th>145</th>\n",
       "      <td>Kumiko, The Treasure Hunter (2015)</td>\n",
       "      <td>87</td>\n",
       "      <td>63</td>\n",
       "      <td>68</td>\n",
       "      <td>6.4</td>\n",
       "      <td>6.7</td>\n",
       "      <td>19</td>\n",
       "      <td>5289</td>\n",
       "      <td>24</td>\n",
       "    </tr>\n",
       "  </tbody>\n",
       "</table>\n",
       "<p>146 rows × 9 columns</p>\n",
       "</div>"
      ],
      "text/plain": [
       "                                          FILM  RottenTomatoes  \\\n",
       "0               Avengers: Age of Ultron (2015)              74   \n",
       "1                            Cinderella (2015)              85   \n",
       "2                               Ant-Man (2015)              80   \n",
       "3                       Do You Believe? (2015)              18   \n",
       "4                Hot Tub Time Machine 2 (2015)              14   \n",
       "..                                         ...             ...   \n",
       "141                          Mr. Holmes (2015)              87   \n",
       "142                                  71 (2015)              97   \n",
       "143                 Two Days, One Night (2014)              97   \n",
       "144  Gett: The Trial of Viviane Amsalem (2015)             100   \n",
       "145         Kumiko, The Treasure Hunter (2015)              87   \n",
       "\n",
       "     RottenTomatoes_User  Metacritic  Metacritic_User  IMDB  \\\n",
       "0                     86          66              7.1   7.8   \n",
       "1                     80          67              7.5   7.1   \n",
       "2                     90          64              8.1   7.8   \n",
       "3                     84          22              4.7   5.4   \n",
       "4                     28          29              3.4   5.1   \n",
       "..                   ...         ...              ...   ...   \n",
       "141                   78          67              7.9   7.4   \n",
       "142                   82          83              7.5   7.2   \n",
       "143                   78          89              8.8   7.4   \n",
       "144                   81          90              7.3   7.8   \n",
       "145                   63          68              6.4   6.7   \n",
       "\n",
       "     Metacritic_user_vote_count  IMDB_user_vote_count  Rotten_Diff  \n",
       "0                          1330                271107          -12  \n",
       "1                           249                 65709            5  \n",
       "2                           627                103660          -10  \n",
       "3                            31                  3136          -66  \n",
       "4                            88                 19560          -14  \n",
       "..                          ...                   ...          ...  \n",
       "141                          33                  7367            9  \n",
       "142                          60                 24116           15  \n",
       "143                         123                 24345           19  \n",
       "144                          19                  1955           19  \n",
       "145                          19                  5289           24  \n",
       "\n",
       "[146 rows x 9 columns]"
      ]
     },
     "execution_count": 138,
     "metadata": {},
     "output_type": "execute_result"
    }
   ],
   "source": [
    "all_sites['Rotten_Diff'] = all_sites['RottenTomatoes'] - all_sites['RottenTomatoes_User']\n",
    "all_sites"
   ]
  },
  {
   "cell_type": "code",
   "execution_count": null,
   "metadata": {
    "id": "sbFzmTBin3uH"
   },
   "outputs": [],
   "source": []
  },
  {
   "cell_type": "markdown",
   "metadata": {
    "id": "bcnF1M4-n3uH"
   },
   "source": [
    "Let's now compare the overall mean difference. Since we're dealing with differences that could be negative or positive, first take the absolute value of all the differences, then take the mean. This would report back on average to absolute difference between the critics rating versus the user rating."
   ]
  },
  {
   "cell_type": "markdown",
   "metadata": {
    "id": "WI4QukfCn3uH"
   },
   "source": [
    "**TASK: Calculate the Mean Absolute Difference between RT scores and RT User scores as described above.**"
   ]
  },
  {
   "cell_type": "code",
   "execution_count": 139,
   "metadata": {
    "id": "g4hQB2PPn3uI"
   },
   "outputs": [
    {
     "data": {
      "text/plain": [
       "15.095890410958905"
      ]
     },
     "execution_count": 139,
     "metadata": {},
     "output_type": "execute_result"
    }
   ],
   "source": [
    "rotten_abs_diff = np.abs(all_sites['Rotten_Diff'])\n",
    "rotten_abs_diff.mean()"
   ]
  },
  {
   "cell_type": "code",
   "execution_count": null,
   "metadata": {
    "id": "S3mYGzvFn3uI",
    "outputId": "cd1058be-7b6a-4e38-f36a-008a8230f3d3"
   },
   "outputs": [],
   "source": []
  },
  {
   "cell_type": "markdown",
   "metadata": {
    "id": "Gpj7SwE-n3uI"
   },
   "source": [
    "**TASK: Plot the distribution of the differences between RT Critics Score and RT User Score. There should be negative values in this distribution plot. Feel free to use KDE or Histograms to display this distribution.**"
   ]
  },
  {
   "cell_type": "code",
   "execution_count": 140,
   "metadata": {
    "id": "F5g9iSDan3uI"
   },
   "outputs": [
    {
     "data": {
      "text/plain": [
       "<AxesSubplot:title={'center':'RT Critics Score minus RT User Score'}, xlabel='Rotten_Diff', ylabel='Count'>"
      ]
     },
     "execution_count": 140,
     "metadata": {},
     "output_type": "execute_result"
    },
    {
     "data": {
      "image/png": "[encoded data removed]",
      "text/plain": [
       "<Figure size 1008x504 with 1 Axes>"
      ]
     },
     "metadata": {
      "needs_background": "light"
     },
     "output_type": "display_data"
    }
   ],
   "source": [
    "plt.figure(figsize=(14,7))\n",
    "plt.title('RT Critics Score minus RT User Score');\n",
    "sns.histplot(data=all_sites,x='Rotten_Diff',bins=25,kde=True)"
   ]
  },
  {
   "cell_type": "code",
   "execution_count": null,
   "metadata": {
    "id": "OXugvfcrn3uJ",
    "outputId": "4968607c-d19d-461d-9459-5f1f4bca216f"
   },
   "outputs": [],
   "source": []
  },
  {
   "cell_type": "markdown",
   "metadata": {
    "id": "7sDluzqMn3uJ"
   },
   "source": [
    "**TASK: Now create a distribution showing the *absolute value* difference between Critics and Users on Rotten Tomatoes.**"
   ]
  },
  {
   "cell_type": "code",
   "execution_count": 141,
   "metadata": {
    "id": "7LKrAPDwn3uJ"
   },
   "outputs": [
    {
     "data": {
      "text/plain": [
       "<AxesSubplot:title={'center':'Absolute Difference between RT Critics Score and RT User Score'}, xlabel='Rotten_Diff', ylabel='Count'>"
      ]
     },
     "execution_count": 141,
     "metadata": {},
     "output_type": "execute_result"
    },
    {
     "data": {
      "image/png": "[encoded data removed]",
      "text/plain": [
       "<Figure size 1008x504 with 1 Axes>"
      ]
     },
     "metadata": {
      "needs_background": "light"
     },
     "output_type": "display_data"
    }
   ],
   "source": [
    "plt.figure(figsize=(14,7))\n",
    "plt.title('Absolute Difference between RT Critics Score and RT User Score');\n",
    "sns.histplot(data=rotten_abs_diff,bins=25,kde=True)"
   ]
  },
  {
   "cell_type": "code",
   "execution_count": null,
   "metadata": {
    "id": "JFFQX35rn3uJ",
    "outputId": "926af520-6abb-4908-d64f-24b54a4d467a"
   },
   "outputs": [],
   "source": []
  },
  {
   "cell_type": "markdown",
   "metadata": {
    "id": "a9OiHP5-n3uJ"
   },
   "source": [
    "**Let's find out which movies are causing the largest differences. First, show the top 5 movies with the largest *negative* difference between Users and RT critics. Since we calculated the difference as Critics Rating - Users Rating, then large negative values imply the users rated the movie much higher on average than the critics did.**"
   ]
  },
  {
   "cell_type": "markdown",
   "metadata": {
    "id": "KMLtLBWCn3uK"
   },
   "source": [
    "**TASK: What are the top 5 movies users rated higher than critics on average:**"
   ]
  },
  {
   "cell_type": "code",
   "execution_count": 142,
   "metadata": {},
   "outputs": [
    {
     "data": {
      "text/html": [
       "<div>\n",
       "<style scoped>\n",
       "    .dataframe tbody tr th:only-of-type {\n",
       "        vertical-align: middle;\n",
       "    }\n",
       "\n",
       "    .dataframe tbody tr th {\n",
       "        vertical-align: top;\n",
       "    }\n",
       "\n",
       "    .dataframe thead th {\n",
       "        text-align: right;\n",
       "    }\n",
       "</style>\n",
       "<table border=\"1\" class=\"dataframe\">\n",
       "  <thead>\n",
       "    <tr style=\"text-align: right;\">\n",
       "      <th></th>\n",
       "      <th>FILM</th>\n",
       "      <th>Rotten_Diff</th>\n",
       "    </tr>\n",
       "  </thead>\n",
       "  <tbody>\n",
       "    <tr>\n",
       "      <th>3</th>\n",
       "      <td>Do You Believe? (2015)</td>\n",
       "      <td>-66</td>\n",
       "    </tr>\n",
       "    <tr>\n",
       "      <th>85</th>\n",
       "      <td>Little Boy (2015)</td>\n",
       "      <td>-61</td>\n",
       "    </tr>\n",
       "    <tr>\n",
       "      <th>134</th>\n",
       "      <td>The Longest Ride (2015)</td>\n",
       "      <td>-42</td>\n",
       "    </tr>\n",
       "    <tr>\n",
       "      <th>105</th>\n",
       "      <td>Hitman: Agent 47 (2015)</td>\n",
       "      <td>-42</td>\n",
       "    </tr>\n",
       "    <tr>\n",
       "      <th>125</th>\n",
       "      <td>The Wedding Ringer (2015)</td>\n",
       "      <td>-39</td>\n",
       "    </tr>\n",
       "  </tbody>\n",
       "</table>\n",
       "</div>"
      ],
      "text/plain": [
       "                          FILM  Rotten_Diff\n",
       "3       Do You Believe? (2015)          -66\n",
       "85           Little Boy (2015)          -61\n",
       "134    The Longest Ride (2015)          -42\n",
       "105    Hitman: Agent 47 (2015)          -42\n",
       "125  The Wedding Ringer (2015)          -39"
      ]
     },
     "execution_count": 142,
     "metadata": {},
     "output_type": "execute_result"
    }
   ],
   "source": [
    "df = all_sites.sort_values('Rotten_Diff',ascending=True)\n",
    "df = df.drop(['RottenTomatoes','RottenTomatoes_User','Metacritic','Metacritic_User',\n",
    "              'Metacritic_user_vote_count','IMDB','IMDB_user_vote_count'],axis=1)\n",
    "df.head(5)"
   ]
  },
  {
   "cell_type": "code",
   "execution_count": null,
   "metadata": {
    "id": "SWWkhbJUn3uK",
    "outputId": "c3b2232e-597d-4069-9b96-f600fe390af7"
   },
   "outputs": [],
   "source": []
  },
  {
   "cell_type": "markdown",
   "metadata": {
    "id": "DMpaabIrn3uK"
   },
   "source": [
    "**TASK: Now show the top 5 movies critics scores higher than users on average.**"
   ]
  },
  {
   "cell_type": "code",
   "execution_count": 143,
   "metadata": {
    "id": "Q6Y3VXEsn3uL"
   },
   "outputs": [
    {
     "data": {
      "text/html": [
       "<div>\n",
       "<style scoped>\n",
       "    .dataframe tbody tr th:only-of-type {\n",
       "        vertical-align: middle;\n",
       "    }\n",
       "\n",
       "    .dataframe tbody tr th {\n",
       "        vertical-align: top;\n",
       "    }\n",
       "\n",
       "    .dataframe thead th {\n",
       "        text-align: right;\n",
       "    }\n",
       "</style>\n",
       "<table border=\"1\" class=\"dataframe\">\n",
       "  <thead>\n",
       "    <tr style=\"text-align: right;\">\n",
       "      <th></th>\n",
       "      <th>FILM</th>\n",
       "      <th>Rotten_Diff</th>\n",
       "    </tr>\n",
       "  </thead>\n",
       "  <tbody>\n",
       "    <tr>\n",
       "      <th>69</th>\n",
       "      <td>Mr. Turner (2014)</td>\n",
       "      <td>42</td>\n",
       "    </tr>\n",
       "    <tr>\n",
       "      <th>112</th>\n",
       "      <td>It Follows (2015)</td>\n",
       "      <td>31</td>\n",
       "    </tr>\n",
       "    <tr>\n",
       "      <th>115</th>\n",
       "      <td>While We're Young (2015)</td>\n",
       "      <td>31</td>\n",
       "    </tr>\n",
       "    <tr>\n",
       "      <th>145</th>\n",
       "      <td>Kumiko, The Treasure Hunter (2015)</td>\n",
       "      <td>24</td>\n",
       "    </tr>\n",
       "    <tr>\n",
       "      <th>37</th>\n",
       "      <td>Welcome to Me (2015)</td>\n",
       "      <td>24</td>\n",
       "    </tr>\n",
       "  </tbody>\n",
       "</table>\n",
       "</div>"
      ],
      "text/plain": [
       "                                   FILM  Rotten_Diff\n",
       "69                    Mr. Turner (2014)           42\n",
       "112                   It Follows (2015)           31\n",
       "115            While We're Young (2015)           31\n",
       "145  Kumiko, The Treasure Hunter (2015)           24\n",
       "37                 Welcome to Me (2015)           24"
      ]
     },
     "execution_count": 143,
     "metadata": {},
     "output_type": "execute_result"
    }
   ],
   "source": [
    "df = df.sort_values('Rotten_Diff',ascending=False)\n",
    "df.head(5)"
   ]
  },
  {
   "cell_type": "code",
   "execution_count": null,
   "metadata": {
    "id": "Bmgp93Sln3uL",
    "outputId": "c502451c-870c-408c-f0d6-167e80cc1828"
   },
   "outputs": [],
   "source": []
  },
  {
   "cell_type": "markdown",
   "metadata": {
    "id": "2TcN9r4On3uL"
   },
   "source": [
    "## MetaCritic\n",
    "\n",
    "Now let's take a quick look at the ratings from MetaCritic. Metacritic also shows an average user rating versus their official displayed rating."
   ]
  },
  {
   "cell_type": "markdown",
   "metadata": {
    "id": "rZuC1Hj3n3uL"
   },
   "source": [
    "**TASK: Display a scatterplot of the Metacritic Rating versus the Metacritic User rating.**"
   ]
  },
  {
   "cell_type": "code",
   "execution_count": 144,
   "metadata": {
    "id": "-GJO0I0Rn3uL"
   },
   "outputs": [
    {
     "data": {
      "image/png": "[encoded data removed]",
      "text/plain": [
       "<Figure size 1008x504 with 1 Axes>"
      ]
     },
     "metadata": {
      "needs_background": "light"
     },
     "output_type": "display_data"
    }
   ],
   "source": [
    "plt.figure(figsize=(14,7))\n",
    "sns.scatterplot(x='Metacritic',y='Metacritic_User',data=all_sites);"
   ]
  },
  {
   "cell_type": "code",
   "execution_count": null,
   "metadata": {
    "id": "_PHDDH7Fn3uL",
    "outputId": "961acaf1-ceaa-4bd9-9d6a-9e5510fb269d"
   },
   "outputs": [],
   "source": []
  },
  {
   "cell_type": "markdown",
   "metadata": {
    "id": "70pO5iLcn3uM"
   },
   "source": [
    "## IMDB\n",
    "\n",
    "Finally let's explore IMDB. Notice that both Metacritic and IMDB report back vote counts. Let's analyze the most popular movies.\n",
    "\n",
    "**TASK: Create a scatterplot for the relationship between vote counts on MetaCritic versus vote counts on IMDB.**"
   ]
  },
  {
   "cell_type": "code",
   "execution_count": 145,
   "metadata": {
    "id": "62NW8gV6n3uM"
   },
   "outputs": [
    {
     "data": {
      "image/png": "[encoded data removed]",
      "text/plain": [
       "<Figure size 1008x504 with 1 Axes>"
      ]
     },
     "metadata": {
      "needs_background": "light"
     },
     "output_type": "display_data"
    }
   ],
   "source": [
    "plt.figure(figsize=(14,7))\n",
    "sns.scatterplot(x='Metacritic_user_vote_count',y='IMDB_user_vote_count',data=all_sites);"
   ]
  },
  {
   "cell_type": "code",
   "execution_count": null,
   "metadata": {
    "id": "757pHWy2n3uM",
    "outputId": "f36bb450-7bf8-4f5c-a7e2-f4c0b41eb238"
   },
   "outputs": [],
   "source": []
  },
  {
   "cell_type": "markdown",
   "metadata": {
    "id": "CUbHW-I1n3uM"
   },
   "source": [
    "**Notice there are two outliers here. The movie with the highest vote count on IMDB only has about 500 Metacritic ratings. What is this movie?**\n",
    "\n",
    "**TASK: What movie has the highest IMDB user vote count?**"
   ]
  },
  {
   "cell_type": "code",
   "execution_count": 146,
   "metadata": {
    "id": "_4Z8Kuyxn3uN"
   },
   "outputs": [
    {
     "data": {
      "text/html": [
       "<div>\n",
       "<style scoped>\n",
       "    .dataframe tbody tr th:only-of-type {\n",
       "        vertical-align: middle;\n",
       "    }\n",
       "\n",
       "    .dataframe tbody tr th {\n",
       "        vertical-align: top;\n",
       "    }\n",
       "\n",
       "    .dataframe thead th {\n",
       "        text-align: right;\n",
       "    }\n",
       "</style>\n",
       "<table border=\"1\" class=\"dataframe\">\n",
       "  <thead>\n",
       "    <tr style=\"text-align: right;\">\n",
       "      <th></th>\n",
       "      <th>FILM</th>\n",
       "      <th>RottenTomatoes</th>\n",
       "      <th>RottenTomatoes_User</th>\n",
       "      <th>Metacritic</th>\n",
       "      <th>Metacritic_User</th>\n",
       "      <th>IMDB</th>\n",
       "      <th>Metacritic_user_vote_count</th>\n",
       "      <th>IMDB_user_vote_count</th>\n",
       "      <th>Rotten_Diff</th>\n",
       "    </tr>\n",
       "  </thead>\n",
       "  <tbody>\n",
       "    <tr>\n",
       "      <th>14</th>\n",
       "      <td>The Imitation Game (2014)</td>\n",
       "      <td>90</td>\n",
       "      <td>92</td>\n",
       "      <td>73</td>\n",
       "      <td>8.2</td>\n",
       "      <td>8.1</td>\n",
       "      <td>566</td>\n",
       "      <td>334164</td>\n",
       "      <td>-2</td>\n",
       "    </tr>\n",
       "  </tbody>\n",
       "</table>\n",
       "</div>"
      ],
      "text/plain": [
       "                         FILM  RottenTomatoes  RottenTomatoes_User  \\\n",
       "14  The Imitation Game (2014)              90                   92   \n",
       "\n",
       "    Metacritic  Metacritic_User  IMDB  Metacritic_user_vote_count  \\\n",
       "14          73              8.2   8.1                         566   \n",
       "\n",
       "    IMDB_user_vote_count  Rotten_Diff  \n",
       "14                334164           -2  "
      ]
     },
     "execution_count": 146,
     "metadata": {},
     "output_type": "execute_result"
    }
   ],
   "source": [
    "df = all_sites.sort_values('IMDB_user_vote_count',ascending=False)\n",
    "df.head(1)"
   ]
  },
  {
   "cell_type": "code",
   "execution_count": null,
   "metadata": {
    "id": "2hZKNTman3uN",
    "outputId": "79db771b-79db-4465-c7de-ee9e5b9d3da6"
   },
   "outputs": [],
   "source": []
  },
  {
   "cell_type": "markdown",
   "metadata": {
    "id": "r083nfNjn3uN"
   },
   "source": [
    "**TASK: What movie has the highest Metacritic User Vote count?**"
   ]
  },
  {
   "cell_type": "code",
   "execution_count": 147,
   "metadata": {
    "id": "o0hrCSDdn3uN"
   },
   "outputs": [
    {
     "data": {
      "text/html": [
       "<div>\n",
       "<style scoped>\n",
       "    .dataframe tbody tr th:only-of-type {\n",
       "        vertical-align: middle;\n",
       "    }\n",
       "\n",
       "    .dataframe tbody tr th {\n",
       "        vertical-align: top;\n",
       "    }\n",
       "\n",
       "    .dataframe thead th {\n",
       "        text-align: right;\n",
       "    }\n",
       "</style>\n",
       "<table border=\"1\" class=\"dataframe\">\n",
       "  <thead>\n",
       "    <tr style=\"text-align: right;\">\n",
       "      <th></th>\n",
       "      <th>FILM</th>\n",
       "      <th>RottenTomatoes</th>\n",
       "      <th>RottenTomatoes_User</th>\n",
       "      <th>Metacritic</th>\n",
       "      <th>Metacritic_User</th>\n",
       "      <th>IMDB</th>\n",
       "      <th>Metacritic_user_vote_count</th>\n",
       "      <th>IMDB_user_vote_count</th>\n",
       "      <th>Rotten_Diff</th>\n",
       "    </tr>\n",
       "  </thead>\n",
       "  <tbody>\n",
       "    <tr>\n",
       "      <th>88</th>\n",
       "      <td>Mad Max: Fury Road (2015)</td>\n",
       "      <td>97</td>\n",
       "      <td>88</td>\n",
       "      <td>89</td>\n",
       "      <td>8.7</td>\n",
       "      <td>8.3</td>\n",
       "      <td>2375</td>\n",
       "      <td>292023</td>\n",
       "      <td>9</td>\n",
       "    </tr>\n",
       "  </tbody>\n",
       "</table>\n",
       "</div>"
      ],
      "text/plain": [
       "                         FILM  RottenTomatoes  RottenTomatoes_User  \\\n",
       "88  Mad Max: Fury Road (2015)              97                   88   \n",
       "\n",
       "    Metacritic  Metacritic_User  IMDB  Metacritic_user_vote_count  \\\n",
       "88          89              8.7   8.3                        2375   \n",
       "\n",
       "    IMDB_user_vote_count  Rotten_Diff  \n",
       "88                292023            9  "
      ]
     },
     "execution_count": 147,
     "metadata": {},
     "output_type": "execute_result"
    }
   ],
   "source": [
    "df = all_sites.sort_values('Metacritic_user_vote_count',ascending=False)\n",
    "df.head(1)"
   ]
  },
  {
   "cell_type": "code",
   "execution_count": null,
   "metadata": {
    "id": "BCIqaHACn3uN",
    "outputId": "ef56fbda-08b6-4ee5-fd8e-4c1c908af26b"
   },
   "outputs": [],
   "source": []
  },
  {
   "cell_type": "markdown",
   "metadata": {
    "id": "o7T6s50bn3uX"
   },
   "source": [
    "## Fandago Scores vs. All Sites\n",
    "\n",
    "Finally let's begin to explore whether or not Fandango artificially displays higher ratings than warranted to boost ticket sales."
   ]
  },
  {
   "cell_type": "markdown",
   "metadata": {
    "id": "NIDK2Hsen3uY"
   },
   "source": [
    "**TASK: Combine the Fandango Table with the All Sites table. Not every movie in the Fandango table is in the All Sites table, since some Fandango movies have very little or no reviews. We only want to compare movies that are in both DataFrames, so do an *inner* merge to merge together both DataFrames based on the FILM columns.**"
   ]
  },
  {
   "cell_type": "code",
   "execution_count": 148,
   "metadata": {
    "id": "qgeahVOBn3uZ"
   },
   "outputs": [],
   "source": [
    "df1 = fandango_nonzero.set_index('FILM')\n",
    "df2 = all_sites.set_index('FILM')\n",
    "combined = pd.merge(df1,df2,left_index=True,right_index=True)\n",
    "combined = combined.reset_index()"
   ]
  },
  {
   "cell_type": "code",
   "execution_count": 149,
   "metadata": {
    "id": "iW4_Eurbn3uZ"
   },
   "outputs": [
    {
     "data": {
      "text/html": [
       "<div>\n",
       "<style scoped>\n",
       "    .dataframe tbody tr th:only-of-type {\n",
       "        vertical-align: middle;\n",
       "    }\n",
       "\n",
       "    .dataframe tbody tr th {\n",
       "        vertical-align: top;\n",
       "    }\n",
       "\n",
       "    .dataframe thead th {\n",
       "        text-align: right;\n",
       "    }\n",
       "</style>\n",
       "<table border=\"1\" class=\"dataframe\">\n",
       "  <thead>\n",
       "    <tr style=\"text-align: right;\">\n",
       "      <th></th>\n",
       "      <th>FILM</th>\n",
       "      <th>VOTES</th>\n",
       "      <th>STARS</th>\n",
       "      <th>RATING</th>\n",
       "      <th>YEAR</th>\n",
       "      <th>STARS_DIFF</th>\n",
       "      <th>RottenTomatoes</th>\n",
       "      <th>RottenTomatoes_User</th>\n",
       "      <th>Metacritic</th>\n",
       "      <th>Metacritic_User</th>\n",
       "      <th>IMDB</th>\n",
       "      <th>Metacritic_user_vote_count</th>\n",
       "      <th>IMDB_user_vote_count</th>\n",
       "      <th>Rotten_Diff</th>\n",
       "    </tr>\n",
       "  </thead>\n",
       "  <tbody>\n",
       "    <tr>\n",
       "      <th>0</th>\n",
       "      <td>5 Flights Up (2015)</td>\n",
       "      <td>79</td>\n",
       "      <td>4.0</td>\n",
       "      <td>3.6</td>\n",
       "      <td>2015</td>\n",
       "      <td>0.4</td>\n",
       "      <td>52</td>\n",
       "      <td>47</td>\n",
       "      <td>55</td>\n",
       "      <td>6.8</td>\n",
       "      <td>6.1</td>\n",
       "      <td>6</td>\n",
       "      <td>2174</td>\n",
       "      <td>5</td>\n",
       "    </tr>\n",
       "    <tr>\n",
       "      <th>1</th>\n",
       "      <td>71 (2015)</td>\n",
       "      <td>192</td>\n",
       "      <td>3.5</td>\n",
       "      <td>3.5</td>\n",
       "      <td>2015</td>\n",
       "      <td>0.0</td>\n",
       "      <td>97</td>\n",
       "      <td>82</td>\n",
       "      <td>83</td>\n",
       "      <td>7.5</td>\n",
       "      <td>7.2</td>\n",
       "      <td>60</td>\n",
       "      <td>24116</td>\n",
       "      <td>15</td>\n",
       "    </tr>\n",
       "    <tr>\n",
       "      <th>2</th>\n",
       "      <td>A Little Chaos (2015)</td>\n",
       "      <td>83</td>\n",
       "      <td>4.0</td>\n",
       "      <td>3.9</td>\n",
       "      <td>2015</td>\n",
       "      <td>0.1</td>\n",
       "      <td>40</td>\n",
       "      <td>47</td>\n",
       "      <td>51</td>\n",
       "      <td>7.0</td>\n",
       "      <td>6.4</td>\n",
       "      <td>7</td>\n",
       "      <td>4778</td>\n",
       "      <td>-7</td>\n",
       "    </tr>\n",
       "    <tr>\n",
       "      <th>3</th>\n",
       "      <td>A Most Violent Year (2014)</td>\n",
       "      <td>675</td>\n",
       "      <td>3.5</td>\n",
       "      <td>3.4</td>\n",
       "      <td>2014</td>\n",
       "      <td>0.1</td>\n",
       "      <td>90</td>\n",
       "      <td>69</td>\n",
       "      <td>79</td>\n",
       "      <td>7.0</td>\n",
       "      <td>7.1</td>\n",
       "      <td>133</td>\n",
       "      <td>32166</td>\n",
       "      <td>21</td>\n",
       "    </tr>\n",
       "    <tr>\n",
       "      <th>4</th>\n",
       "      <td>About Elly (2015)</td>\n",
       "      <td>43</td>\n",
       "      <td>4.0</td>\n",
       "      <td>3.6</td>\n",
       "      <td>2015</td>\n",
       "      <td>0.4</td>\n",
       "      <td>97</td>\n",
       "      <td>86</td>\n",
       "      <td>87</td>\n",
       "      <td>9.6</td>\n",
       "      <td>8.2</td>\n",
       "      <td>23</td>\n",
       "      <td>20659</td>\n",
       "      <td>11</td>\n",
       "    </tr>\n",
       "    <tr>\n",
       "      <th>...</th>\n",
       "      <td>...</td>\n",
       "      <td>...</td>\n",
       "      <td>...</td>\n",
       "      <td>...</td>\n",
       "      <td>...</td>\n",
       "      <td>...</td>\n",
       "      <td>...</td>\n",
       "      <td>...</td>\n",
       "      <td>...</td>\n",
       "      <td>...</td>\n",
       "      <td>...</td>\n",
       "      <td>...</td>\n",
       "      <td>...</td>\n",
       "      <td>...</td>\n",
       "    </tr>\n",
       "    <tr>\n",
       "      <th>140</th>\n",
       "      <td>What We Do in the Shadows (2015)</td>\n",
       "      <td>259</td>\n",
       "      <td>4.5</td>\n",
       "      <td>4.3</td>\n",
       "      <td>2015</td>\n",
       "      <td>0.2</td>\n",
       "      <td>96</td>\n",
       "      <td>86</td>\n",
       "      <td>75</td>\n",
       "      <td>8.3</td>\n",
       "      <td>7.6</td>\n",
       "      <td>69</td>\n",
       "      <td>39561</td>\n",
       "      <td>10</td>\n",
       "    </tr>\n",
       "    <tr>\n",
       "      <th>141</th>\n",
       "      <td>When Marnie Was There (2015)</td>\n",
       "      <td>46</td>\n",
       "      <td>4.5</td>\n",
       "      <td>4.1</td>\n",
       "      <td>2015</td>\n",
       "      <td>0.4</td>\n",
       "      <td>89</td>\n",
       "      <td>89</td>\n",
       "      <td>71</td>\n",
       "      <td>6.4</td>\n",
       "      <td>7.8</td>\n",
       "      <td>29</td>\n",
       "      <td>4160</td>\n",
       "      <td>0</td>\n",
       "    </tr>\n",
       "    <tr>\n",
       "      <th>142</th>\n",
       "      <td>While We're Young (2015)</td>\n",
       "      <td>449</td>\n",
       "      <td>3.0</td>\n",
       "      <td>2.9</td>\n",
       "      <td>2015</td>\n",
       "      <td>0.1</td>\n",
       "      <td>83</td>\n",
       "      <td>52</td>\n",
       "      <td>76</td>\n",
       "      <td>6.7</td>\n",
       "      <td>6.4</td>\n",
       "      <td>65</td>\n",
       "      <td>17647</td>\n",
       "      <td>31</td>\n",
       "    </tr>\n",
       "    <tr>\n",
       "      <th>143</th>\n",
       "      <td>Wild Tales (2014)</td>\n",
       "      <td>235</td>\n",
       "      <td>4.5</td>\n",
       "      <td>4.1</td>\n",
       "      <td>2014</td>\n",
       "      <td>0.4</td>\n",
       "      <td>96</td>\n",
       "      <td>92</td>\n",
       "      <td>77</td>\n",
       "      <td>8.8</td>\n",
       "      <td>8.2</td>\n",
       "      <td>107</td>\n",
       "      <td>50285</td>\n",
       "      <td>4</td>\n",
       "    </tr>\n",
       "    <tr>\n",
       "      <th>144</th>\n",
       "      <td>Woman in Gold (2015)</td>\n",
       "      <td>2435</td>\n",
       "      <td>4.5</td>\n",
       "      <td>4.4</td>\n",
       "      <td>2015</td>\n",
       "      <td>0.1</td>\n",
       "      <td>52</td>\n",
       "      <td>81</td>\n",
       "      <td>51</td>\n",
       "      <td>7.2</td>\n",
       "      <td>7.4</td>\n",
       "      <td>72</td>\n",
       "      <td>17957</td>\n",
       "      <td>-29</td>\n",
       "    </tr>\n",
       "  </tbody>\n",
       "</table>\n",
       "<p>145 rows × 14 columns</p>\n",
       "</div>"
      ],
      "text/plain": [
       "                                 FILM  VOTES  STARS  RATING  YEAR  STARS_DIFF  \\\n",
       "0                 5 Flights Up (2015)     79    4.0     3.6  2015         0.4   \n",
       "1                           71 (2015)    192    3.5     3.5  2015         0.0   \n",
       "2               A Little Chaos (2015)     83    4.0     3.9  2015         0.1   \n",
       "3          A Most Violent Year (2014)    675    3.5     3.4  2014         0.1   \n",
       "4                   About Elly (2015)     43    4.0     3.6  2015         0.4   \n",
       "..                                ...    ...    ...     ...   ...         ...   \n",
       "140  What We Do in the Shadows (2015)    259    4.5     4.3  2015         0.2   \n",
       "141      When Marnie Was There (2015)     46    4.5     4.1  2015         0.4   \n",
       "142          While We're Young (2015)    449    3.0     2.9  2015         0.1   \n",
       "143                 Wild Tales (2014)    235    4.5     4.1  2014         0.4   \n",
       "144              Woman in Gold (2015)   2435    4.5     4.4  2015         0.1   \n",
       "\n",
       "     RottenTomatoes  RottenTomatoes_User  Metacritic  Metacritic_User  IMDB  \\\n",
       "0                52                   47          55              6.8   6.1   \n",
       "1                97                   82          83              7.5   7.2   \n",
       "2                40                   47          51              7.0   6.4   \n",
       "3                90                   69          79              7.0   7.1   \n",
       "4                97                   86          87              9.6   8.2   \n",
       "..              ...                  ...         ...              ...   ...   \n",
       "140              96                   86          75              8.3   7.6   \n",
       "141              89                   89          71              6.4   7.8   \n",
       "142              83                   52          76              6.7   6.4   \n",
       "143              96                   92          77              8.8   8.2   \n",
       "144              52                   81          51              7.2   7.4   \n",
       "\n",
       "     Metacritic_user_vote_count  IMDB_user_vote_count  Rotten_Diff  \n",
       "0                             6                  2174            5  \n",
       "1                            60                 24116           15  \n",
       "2                             7                  4778           -7  \n",
       "3                           133                 32166           21  \n",
       "4                            23                 20659           11  \n",
       "..                          ...                   ...          ...  \n",
       "140                          69                 39561           10  \n",
       "141                          29                  4160            0  \n",
       "142                          65                 17647           31  \n",
       "143                         107                 50285            4  \n",
       "144                          72                 17957          -29  \n",
       "\n",
       "[145 rows x 14 columns]"
      ]
     },
     "execution_count": 149,
     "metadata": {},
     "output_type": "execute_result"
    }
   ],
   "source": [
    "combined"
   ]
  },
  {
   "cell_type": "code",
   "execution_count": 150,
   "metadata": {
    "id": "KxTpaKimn3uZ",
    "outputId": "0c37441c-6cf8-4d86-a7bd-650821d8c61b"
   },
   "outputs": [
    {
     "name": "stdout",
     "output_type": "stream",
     "text": [
      "<class 'pandas.core.frame.DataFrame'>\n",
      "RangeIndex: 145 entries, 0 to 144\n",
      "Data columns (total 14 columns):\n",
      " #   Column                      Non-Null Count  Dtype  \n",
      "---  ------                      --------------  -----  \n",
      " 0   FILM                        145 non-null    object \n",
      " 1   VOTES                       145 non-null    int64  \n",
      " 2   STARS                       145 non-null    float64\n",
      " 3   RATING                      145 non-null    float64\n",
      " 4   YEAR                        145 non-null    object \n",
      " 5   STARS_DIFF                  145 non-null    float64\n",
      " 6   RottenTomatoes              145 non-null    int64  \n",
      " 7   RottenTomatoes_User         145 non-null    int64  \n",
      " 8   Metacritic                  145 non-null    int64  \n",
      " 9   Metacritic_User             145 non-null    float64\n",
      " 10  IMDB                        145 non-null    float64\n",
      " 11  Metacritic_user_vote_count  145 non-null    int64  \n",
      " 12  IMDB_user_vote_count        145 non-null    int64  \n",
      " 13  Rotten_Diff                 145 non-null    int64  \n",
      "dtypes: float64(5), int64(7), object(2)\n",
      "memory usage: 16.0+ KB\n"
     ]
    }
   ],
   "source": [
    "combined.info()"
   ]
  },
  {
   "cell_type": "code",
   "execution_count": 151,
   "metadata": {
    "id": "X560jkyen3uZ",
    "outputId": "814cf12a-4efd-46b2-a7f9-197cf33255e7"
   },
   "outputs": [
    {
     "data": {
      "text/html": [
       "<div>\n",
       "<style scoped>\n",
       "    .dataframe tbody tr th:only-of-type {\n",
       "        vertical-align: middle;\n",
       "    }\n",
       "\n",
       "    .dataframe tbody tr th {\n",
       "        vertical-align: top;\n",
       "    }\n",
       "\n",
       "    .dataframe thead th {\n",
       "        text-align: right;\n",
       "    }\n",
       "</style>\n",
       "<table border=\"1\" class=\"dataframe\">\n",
       "  <thead>\n",
       "    <tr style=\"text-align: right;\">\n",
       "      <th></th>\n",
       "      <th>FILM</th>\n",
       "      <th>VOTES</th>\n",
       "      <th>STARS</th>\n",
       "      <th>RATING</th>\n",
       "      <th>YEAR</th>\n",
       "      <th>STARS_DIFF</th>\n",
       "      <th>RottenTomatoes</th>\n",
       "      <th>RottenTomatoes_User</th>\n",
       "      <th>Metacritic</th>\n",
       "      <th>Metacritic_User</th>\n",
       "      <th>IMDB</th>\n",
       "      <th>Metacritic_user_vote_count</th>\n",
       "      <th>IMDB_user_vote_count</th>\n",
       "      <th>Rotten_Diff</th>\n",
       "    </tr>\n",
       "  </thead>\n",
       "  <tbody>\n",
       "    <tr>\n",
       "      <th>0</th>\n",
       "      <td>5 Flights Up (2015)</td>\n",
       "      <td>79</td>\n",
       "      <td>4.0</td>\n",
       "      <td>3.6</td>\n",
       "      <td>2015</td>\n",
       "      <td>0.4</td>\n",
       "      <td>52</td>\n",
       "      <td>47</td>\n",
       "      <td>55</td>\n",
       "      <td>6.8</td>\n",
       "      <td>6.1</td>\n",
       "      <td>6</td>\n",
       "      <td>2174</td>\n",
       "      <td>5</td>\n",
       "    </tr>\n",
       "    <tr>\n",
       "      <th>1</th>\n",
       "      <td>71 (2015)</td>\n",
       "      <td>192</td>\n",
       "      <td>3.5</td>\n",
       "      <td>3.5</td>\n",
       "      <td>2015</td>\n",
       "      <td>0.0</td>\n",
       "      <td>97</td>\n",
       "      <td>82</td>\n",
       "      <td>83</td>\n",
       "      <td>7.5</td>\n",
       "      <td>7.2</td>\n",
       "      <td>60</td>\n",
       "      <td>24116</td>\n",
       "      <td>15</td>\n",
       "    </tr>\n",
       "    <tr>\n",
       "      <th>2</th>\n",
       "      <td>A Little Chaos (2015)</td>\n",
       "      <td>83</td>\n",
       "      <td>4.0</td>\n",
       "      <td>3.9</td>\n",
       "      <td>2015</td>\n",
       "      <td>0.1</td>\n",
       "      <td>40</td>\n",
       "      <td>47</td>\n",
       "      <td>51</td>\n",
       "      <td>7.0</td>\n",
       "      <td>6.4</td>\n",
       "      <td>7</td>\n",
       "      <td>4778</td>\n",
       "      <td>-7</td>\n",
       "    </tr>\n",
       "    <tr>\n",
       "      <th>3</th>\n",
       "      <td>A Most Violent Year (2014)</td>\n",
       "      <td>675</td>\n",
       "      <td>3.5</td>\n",
       "      <td>3.4</td>\n",
       "      <td>2014</td>\n",
       "      <td>0.1</td>\n",
       "      <td>90</td>\n",
       "      <td>69</td>\n",
       "      <td>79</td>\n",
       "      <td>7.0</td>\n",
       "      <td>7.1</td>\n",
       "      <td>133</td>\n",
       "      <td>32166</td>\n",
       "      <td>21</td>\n",
       "    </tr>\n",
       "    <tr>\n",
       "      <th>4</th>\n",
       "      <td>About Elly (2015)</td>\n",
       "      <td>43</td>\n",
       "      <td>4.0</td>\n",
       "      <td>3.6</td>\n",
       "      <td>2015</td>\n",
       "      <td>0.4</td>\n",
       "      <td>97</td>\n",
       "      <td>86</td>\n",
       "      <td>87</td>\n",
       "      <td>9.6</td>\n",
       "      <td>8.2</td>\n",
       "      <td>23</td>\n",
       "      <td>20659</td>\n",
       "      <td>11</td>\n",
       "    </tr>\n",
       "  </tbody>\n",
       "</table>\n",
       "</div>"
      ],
      "text/plain": [
       "                         FILM  VOTES  STARS  RATING  YEAR  STARS_DIFF  \\\n",
       "0         5 Flights Up (2015)     79    4.0     3.6  2015         0.4   \n",
       "1                   71 (2015)    192    3.5     3.5  2015         0.0   \n",
       "2       A Little Chaos (2015)     83    4.0     3.9  2015         0.1   \n",
       "3  A Most Violent Year (2014)    675    3.5     3.4  2014         0.1   \n",
       "4           About Elly (2015)     43    4.0     3.6  2015         0.4   \n",
       "\n",
       "   RottenTomatoes  RottenTomatoes_User  Metacritic  Metacritic_User  IMDB  \\\n",
       "0              52                   47          55              6.8   6.1   \n",
       "1              97                   82          83              7.5   7.2   \n",
       "2              40                   47          51              7.0   6.4   \n",
       "3              90                   69          79              7.0   7.1   \n",
       "4              97                   86          87              9.6   8.2   \n",
       "\n",
       "   Metacritic_user_vote_count  IMDB_user_vote_count  Rotten_Diff  \n",
       "0                           6                  2174            5  \n",
       "1                          60                 24116           15  \n",
       "2                           7                  4778           -7  \n",
       "3                         133                 32166           21  \n",
       "4                          23                 20659           11  "
      ]
     },
     "execution_count": 151,
     "metadata": {},
     "output_type": "execute_result"
    }
   ],
   "source": [
    "combined.head()"
   ]
  },
  {
   "cell_type": "markdown",
   "metadata": {
    "id": "ipFQhwD4n3ua"
   },
   "source": [
    "### Normalize columns to Fandango STARS and RATINGS 0-5 \n",
    "\n",
    "Notice that RT,Metacritic, and IMDB don't use a score between 0-5 stars like Fandango does. In order to do a fair comparison, we need to *normalize* these values so they all fall between 0-5 stars and the relationship between reviews stays the same.\n",
    "\n",
    "**TASK: Create new normalized columns for all ratings so they match up within the 0-5 star range shown on Fandango. There are many ways to do this.**\n",
    "\n",
    "Hint link: https://stackoverflow.com/questions/26414913/normalize-columns-of-pandas-data-frame\n",
    "\n",
    "\n",
    "Easier Hint:\n",
    "\n",
    "Keep in mind, a simple way to convert ratings:\n",
    "* 100/20 = 5 \n",
    "* 10/2 = 5"
   ]
  },
  {
   "cell_type": "code",
   "execution_count": 152,
   "metadata": {
    "id": "ia72gZYUn3ua"
   },
   "outputs": [
    {
     "data": {
      "text/html": [
       "<div>\n",
       "<style scoped>\n",
       "    .dataframe tbody tr th:only-of-type {\n",
       "        vertical-align: middle;\n",
       "    }\n",
       "\n",
       "    .dataframe tbody tr th {\n",
       "        vertical-align: top;\n",
       "    }\n",
       "\n",
       "    .dataframe thead th {\n",
       "        text-align: right;\n",
       "    }\n",
       "</style>\n",
       "<table border=\"1\" class=\"dataframe\">\n",
       "  <thead>\n",
       "    <tr style=\"text-align: right;\">\n",
       "      <th></th>\n",
       "      <th>FILM</th>\n",
       "      <th>VOTES</th>\n",
       "      <th>STARS</th>\n",
       "      <th>RATING</th>\n",
       "      <th>YEAR</th>\n",
       "      <th>STARS_DIFF</th>\n",
       "      <th>RottenTomatoes</th>\n",
       "      <th>RottenTomatoes_User</th>\n",
       "      <th>Metacritic</th>\n",
       "      <th>Metacritic_User</th>\n",
       "      <th>IMDB</th>\n",
       "      <th>Metacritic_user_vote_count</th>\n",
       "      <th>IMDB_user_vote_count</th>\n",
       "      <th>Rotten_Diff</th>\n",
       "      <th>RT_Norm</th>\n",
       "      <th>RTU_Norm</th>\n",
       "      <th>Meta_Norm</th>\n",
       "      <th>Meta_U_Norm</th>\n",
       "      <th>IMDB_Norm</th>\n",
       "    </tr>\n",
       "  </thead>\n",
       "  <tbody>\n",
       "    <tr>\n",
       "      <th>0</th>\n",
       "      <td>5 Flights Up (2015)</td>\n",
       "      <td>79</td>\n",
       "      <td>4.0</td>\n",
       "      <td>3.6</td>\n",
       "      <td>2015</td>\n",
       "      <td>0.4</td>\n",
       "      <td>52</td>\n",
       "      <td>47</td>\n",
       "      <td>55</td>\n",
       "      <td>6.8</td>\n",
       "      <td>6.1</td>\n",
       "      <td>6</td>\n",
       "      <td>2174</td>\n",
       "      <td>5</td>\n",
       "      <td>2.6</td>\n",
       "      <td>2.4</td>\n",
       "      <td>2.8</td>\n",
       "      <td>3.4</td>\n",
       "      <td>3.0</td>\n",
       "    </tr>\n",
       "    <tr>\n",
       "      <th>1</th>\n",
       "      <td>71 (2015)</td>\n",
       "      <td>192</td>\n",
       "      <td>3.5</td>\n",
       "      <td>3.5</td>\n",
       "      <td>2015</td>\n",
       "      <td>0.0</td>\n",
       "      <td>97</td>\n",
       "      <td>82</td>\n",
       "      <td>83</td>\n",
       "      <td>7.5</td>\n",
       "      <td>7.2</td>\n",
       "      <td>60</td>\n",
       "      <td>24116</td>\n",
       "      <td>15</td>\n",
       "      <td>4.8</td>\n",
       "      <td>4.1</td>\n",
       "      <td>4.2</td>\n",
       "      <td>3.8</td>\n",
       "      <td>3.6</td>\n",
       "    </tr>\n",
       "    <tr>\n",
       "      <th>2</th>\n",
       "      <td>A Little Chaos (2015)</td>\n",
       "      <td>83</td>\n",
       "      <td>4.0</td>\n",
       "      <td>3.9</td>\n",
       "      <td>2015</td>\n",
       "      <td>0.1</td>\n",
       "      <td>40</td>\n",
       "      <td>47</td>\n",
       "      <td>51</td>\n",
       "      <td>7.0</td>\n",
       "      <td>6.4</td>\n",
       "      <td>7</td>\n",
       "      <td>4778</td>\n",
       "      <td>-7</td>\n",
       "      <td>2.0</td>\n",
       "      <td>2.4</td>\n",
       "      <td>2.6</td>\n",
       "      <td>3.5</td>\n",
       "      <td>3.2</td>\n",
       "    </tr>\n",
       "    <tr>\n",
       "      <th>3</th>\n",
       "      <td>A Most Violent Year (2014)</td>\n",
       "      <td>675</td>\n",
       "      <td>3.5</td>\n",
       "      <td>3.4</td>\n",
       "      <td>2014</td>\n",
       "      <td>0.1</td>\n",
       "      <td>90</td>\n",
       "      <td>69</td>\n",
       "      <td>79</td>\n",
       "      <td>7.0</td>\n",
       "      <td>7.1</td>\n",
       "      <td>133</td>\n",
       "      <td>32166</td>\n",
       "      <td>21</td>\n",
       "      <td>4.5</td>\n",
       "      <td>3.4</td>\n",
       "      <td>4.0</td>\n",
       "      <td>3.5</td>\n",
       "      <td>3.6</td>\n",
       "    </tr>\n",
       "    <tr>\n",
       "      <th>4</th>\n",
       "      <td>About Elly (2015)</td>\n",
       "      <td>43</td>\n",
       "      <td>4.0</td>\n",
       "      <td>3.6</td>\n",
       "      <td>2015</td>\n",
       "      <td>0.4</td>\n",
       "      <td>97</td>\n",
       "      <td>86</td>\n",
       "      <td>87</td>\n",
       "      <td>9.6</td>\n",
       "      <td>8.2</td>\n",
       "      <td>23</td>\n",
       "      <td>20659</td>\n",
       "      <td>11</td>\n",
       "      <td>4.8</td>\n",
       "      <td>4.3</td>\n",
       "      <td>4.4</td>\n",
       "      <td>4.8</td>\n",
       "      <td>4.1</td>\n",
       "    </tr>\n",
       "  </tbody>\n",
       "</table>\n",
       "</div>"
      ],
      "text/plain": [
       "                         FILM  VOTES  STARS  RATING  YEAR  STARS_DIFF  \\\n",
       "0         5 Flights Up (2015)     79    4.0     3.6  2015         0.4   \n",
       "1                   71 (2015)    192    3.5     3.5  2015         0.0   \n",
       "2       A Little Chaos (2015)     83    4.0     3.9  2015         0.1   \n",
       "3  A Most Violent Year (2014)    675    3.5     3.4  2014         0.1   \n",
       "4           About Elly (2015)     43    4.0     3.6  2015         0.4   \n",
       "\n",
       "   RottenTomatoes  RottenTomatoes_User  Metacritic  Metacritic_User  IMDB  \\\n",
       "0              52                   47          55              6.8   6.1   \n",
       "1              97                   82          83              7.5   7.2   \n",
       "2              40                   47          51              7.0   6.4   \n",
       "3              90                   69          79              7.0   7.1   \n",
       "4              97                   86          87              9.6   8.2   \n",
       "\n",
       "   Metacritic_user_vote_count  IMDB_user_vote_count  Rotten_Diff  RT_Norm  \\\n",
       "0                           6                  2174            5      2.6   \n",
       "1                          60                 24116           15      4.8   \n",
       "2                           7                  4778           -7      2.0   \n",
       "3                         133                 32166           21      4.5   \n",
       "4                          23                 20659           11      4.8   \n",
       "\n",
       "   RTU_Norm  Meta_Norm  Meta_U_Norm  IMDB_Norm  \n",
       "0       2.4        2.8          3.4        3.0  \n",
       "1       4.1        4.2          3.8        3.6  \n",
       "2       2.4        2.6          3.5        3.2  \n",
       "3       3.4        4.0          3.5        3.6  \n",
       "4       4.3        4.4          4.8        4.1  "
      ]
     },
     "execution_count": 152,
     "metadata": {},
     "output_type": "execute_result"
    }
   ],
   "source": [
    "combined['RT_Norm'] = np.round(combined['RottenTomatoes']/20,1)\n",
    "combined['RTU_Norm'] = np.round(combined['RottenTomatoes_User']/20,1)\n",
    "combined['Meta_Norm'] = np.round(combined['Metacritic']/20,1)\n",
    "combined['Meta_U_Norm'] = np.round(combined['Metacritic_User']/2,1)\n",
    "combined['IMDB_Norm'] = np.round(combined['IMDB']/2,1)\n",
    "\n",
    "combined.head()"
   ]
  },
  {
   "cell_type": "code",
   "execution_count": null,
   "metadata": {
    "id": "Fd5nDzAZn3ua"
   },
   "outputs": [],
   "source": []
  },
  {
   "cell_type": "code",
   "execution_count": null,
   "metadata": {
    "id": "HbxvP-Psn3ua"
   },
   "outputs": [],
   "source": []
  },
  {
   "cell_type": "code",
   "execution_count": null,
   "metadata": {
    "id": "K70tHBDun3ua"
   },
   "outputs": [],
   "source": []
  },
  {
   "cell_type": "code",
   "execution_count": null,
   "metadata": {
    "id": "N92fI-DDn3ub",
    "outputId": "55bfcd56-aa35-492e-fcba-c50b07823774"
   },
   "outputs": [],
   "source": []
  },
  {
   "cell_type": "markdown",
   "metadata": {
    "id": "JnaNnOaXn3uc"
   },
   "source": [
    "**TASK: Now create a norm_scores DataFrame that only contains the normalizes ratings. Include both STARS and RATING from the original Fandango table.**"
   ]
  },
  {
   "cell_type": "code",
   "execution_count": 153,
   "metadata": {
    "id": "9ukh-L-zn3uc"
   },
   "outputs": [
    {
     "data": {
      "text/html": [
       "<div>\n",
       "<style scoped>\n",
       "    .dataframe tbody tr th:only-of-type {\n",
       "        vertical-align: middle;\n",
       "    }\n",
       "\n",
       "    .dataframe tbody tr th {\n",
       "        vertical-align: top;\n",
       "    }\n",
       "\n",
       "    .dataframe thead th {\n",
       "        text-align: right;\n",
       "    }\n",
       "</style>\n",
       "<table border=\"1\" class=\"dataframe\">\n",
       "  <thead>\n",
       "    <tr style=\"text-align: right;\">\n",
       "      <th></th>\n",
       "      <th>STARS</th>\n",
       "      <th>RATING</th>\n",
       "      <th>RT_Norm</th>\n",
       "      <th>RTU_Norm</th>\n",
       "      <th>Meta_Norm</th>\n",
       "      <th>Meta_U_Norm</th>\n",
       "      <th>IMDB_Norm</th>\n",
       "    </tr>\n",
       "  </thead>\n",
       "  <tbody>\n",
       "    <tr>\n",
       "      <th>0</th>\n",
       "      <td>4.0</td>\n",
       "      <td>3.6</td>\n",
       "      <td>2.6</td>\n",
       "      <td>2.4</td>\n",
       "      <td>2.8</td>\n",
       "      <td>3.4</td>\n",
       "      <td>3.0</td>\n",
       "    </tr>\n",
       "    <tr>\n",
       "      <th>1</th>\n",
       "      <td>3.5</td>\n",
       "      <td>3.5</td>\n",
       "      <td>4.8</td>\n",
       "      <td>4.1</td>\n",
       "      <td>4.2</td>\n",
       "      <td>3.8</td>\n",
       "      <td>3.6</td>\n",
       "    </tr>\n",
       "    <tr>\n",
       "      <th>2</th>\n",
       "      <td>4.0</td>\n",
       "      <td>3.9</td>\n",
       "      <td>2.0</td>\n",
       "      <td>2.4</td>\n",
       "      <td>2.6</td>\n",
       "      <td>3.5</td>\n",
       "      <td>3.2</td>\n",
       "    </tr>\n",
       "    <tr>\n",
       "      <th>3</th>\n",
       "      <td>3.5</td>\n",
       "      <td>3.4</td>\n",
       "      <td>4.5</td>\n",
       "      <td>3.4</td>\n",
       "      <td>4.0</td>\n",
       "      <td>3.5</td>\n",
       "      <td>3.6</td>\n",
       "    </tr>\n",
       "    <tr>\n",
       "      <th>4</th>\n",
       "      <td>4.0</td>\n",
       "      <td>3.6</td>\n",
       "      <td>4.8</td>\n",
       "      <td>4.3</td>\n",
       "      <td>4.4</td>\n",
       "      <td>4.8</td>\n",
       "      <td>4.1</td>\n",
       "    </tr>\n",
       "  </tbody>\n",
       "</table>\n",
       "</div>"
      ],
      "text/plain": [
       "   STARS  RATING  RT_Norm  RTU_Norm  Meta_Norm  Meta_U_Norm  IMDB_Norm\n",
       "0    4.0     3.6      2.6       2.4        2.8          3.4        3.0\n",
       "1    3.5     3.5      4.8       4.1        4.2          3.8        3.6\n",
       "2    4.0     3.9      2.0       2.4        2.6          3.5        3.2\n",
       "3    3.5     3.4      4.5       3.4        4.0          3.5        3.6\n",
       "4    4.0     3.6      4.8       4.3        4.4          4.8        4.1"
      ]
     },
     "execution_count": 153,
     "metadata": {},
     "output_type": "execute_result"
    }
   ],
   "source": [
    "norm_scores = combined.drop(['FILM','VOTES','YEAR','RottenTomatoes','RottenTomatoes_User','Metacritic','Metacritic_User',\n",
    "                             'Metacritic_user_vote_count','IMDB','IMDB_user_vote_count','Rotten_Diff','STARS_DIFF'],axis=1)\n",
    "norm_scores.head()"
   ]
  },
  {
   "cell_type": "code",
   "execution_count": null,
   "metadata": {
    "id": "zVdBKA7fn3uc"
   },
   "outputs": [],
   "source": []
  },
  {
   "cell_type": "code",
   "execution_count": null,
   "metadata": {
    "id": "U5Z8Wddon3uc",
    "outputId": "fad4162e-8c6b-4a75-bb79-f0d5ca519d92"
   },
   "outputs": [],
   "source": []
  },
  {
   "cell_type": "markdown",
   "metadata": {
    "id": "8LxPczcIn3uc"
   },
   "source": [
    "### Comparing Distribution of Scores Across Sites\n",
    "\n",
    "\n",
    "Now the moment of truth! Does Fandango display abnormally high ratings? We already know it pushs displayed RATING higher than STARS, but are the ratings themselves higher than average?\n",
    "\n",
    "\n",
    "**TASK: Create a plot comparing the distributions of normalized ratings across all sites. There are many ways to do this, but explore the Seaborn KDEplot docs for some simple ways to quickly show this. Don't worry if your plot format does not look exactly the same as ours, as long as the differences in distribution are clear.**\n",
    "\n",
    "Quick Note if you have issues moving the legend for a seaborn kdeplot: https://github.com/mwaskom/seaborn/issues/2280"
   ]
  },
  {
   "cell_type": "code",
   "execution_count": 154,
   "metadata": {
    "id": "4uQEayPTn3uc"
   },
   "outputs": [
    {
     "data": {
      "image/png": "[encoded data removed]",
      "text/plain": [
       "<Figure size 1008x504 with 1 Axes>"
      ]
     },
     "metadata": {
      "needs_background": "light"
     },
     "output_type": "display_data"
    }
   ],
   "source": [
    "plt.figure(figsize=(14,7))\n",
    "ax = sns.kdeplot(data=norm_scores[['STARS','RATING','RT_Norm','RTU_Norm','Meta_Norm','Meta_U_Norm','IMDB_Norm']],shade=True)\n",
    "plt.xlim(0,5)\n",
    "\n",
    "def move_legend(ax, new_loc, **kws):\n",
    "    old_legend = ax.legend_\n",
    "    handles = old_legend.legendHandles\n",
    "    labels = [t.get_text() for t in old_legend.get_texts()]\n",
    "    title = old_legend.get_title().get_text()\n",
    "    ax.legend(handles, labels, loc=new_loc, title=title, **kws)\n",
    "    \n",
    "move_legend(ax, \"upper left\")"
   ]
  },
  {
   "cell_type": "code",
   "execution_count": null,
   "metadata": {
    "id": "96pGrBgFn3ud"
   },
   "outputs": [],
   "source": []
  },
  {
   "cell_type": "code",
   "execution_count": null,
   "metadata": {
    "id": "bZwsbZfMn3ud",
    "outputId": "c57bdc78-7e3f-468a-8f67-afbcf000af8a"
   },
   "outputs": [],
   "source": []
  },
  {
   "cell_type": "markdown",
   "metadata": {
    "id": "RpFzJXOMn3ud"
   },
   "source": [
    "**Clearly Fandango has an uneven distribution. We can also see that RT critics have the most uniform distribution. Let's directly compare these two.** \n",
    "\n",
    "**TASK: Create a KDE plot that compare the distribution of RT critic ratings against the STARS displayed by Fandango.**"
   ]
  },
  {
   "cell_type": "code",
   "execution_count": 155,
   "metadata": {
    "id": "v9W8PqsPn3ud"
   },
   "outputs": [
    {
     "data": {
      "image/png": "[encoded data removed]",
      "text/plain": [
       "<Figure size 1008x504 with 1 Axes>"
      ]
     },
     "metadata": {
      "needs_background": "light"
     },
     "output_type": "display_data"
    }
   ],
   "source": [
    "plt.figure(figsize=(14,7))\n",
    "ax = sns.kdeplot(data=norm_scores[['STARS','RT_Norm']],shade=True)\n",
    "plt.xlim(0,5)\n",
    "\n",
    "def move_legend(ax, new_loc, **kws):\n",
    "    old_legend = ax.legend_\n",
    "    handles = old_legend.legendHandles\n",
    "    labels = [t.get_text() for t in old_legend.get_texts()]\n",
    "    title = old_legend.get_title().get_text()\n",
    "    ax.legend(handles, labels, loc=new_loc, title=title, **kws)\n",
    "    \n",
    "move_legend(ax, \"upper left\")"
   ]
  },
  {
   "cell_type": "code",
   "execution_count": null,
   "metadata": {
    "id": "romNvAxYn3ud",
    "outputId": "4529ae94-e167-4284-dde7-c3acb7834b12"
   },
   "outputs": [],
   "source": []
  },
  {
   "cell_type": "markdown",
   "metadata": {
    "id": "Ala40lp3n3ue"
   },
   "source": [
    "**OPTIONAL TASK: Create a histplot comparing all normalized scores.**"
   ]
  },
  {
   "cell_type": "code",
   "execution_count": 156,
   "metadata": {
    "id": "YGrc-YsVn3ue"
   },
   "outputs": [
    {
     "data": {
      "text/plain": [
       "(0.0, 5.0)"
      ]
     },
     "execution_count": 156,
     "metadata": {},
     "output_type": "execute_result"
    },
    {
     "data": {
      "image/png": "[encoded data removed]",
      "text/plain": [
       "<Figure size 1008x504 with 1 Axes>"
      ]
     },
     "metadata": {
      "needs_background": "light"
     },
     "output_type": "display_data"
    }
   ],
   "source": [
    "plt.figure(figsize=(14,7))\n",
    "sns.histplot(data=norm_scores[['STARS','RATING','RT_Norm','RTU_Norm','Meta_Norm','Meta_U_Norm','IMDB_Norm']],bins=50)\n",
    "plt.xlim(0,5)"
   ]
  },
  {
   "cell_type": "code",
   "execution_count": null,
   "metadata": {
    "id": "Lwf7oKqQn3ue",
    "outputId": "ed60a6bc-c970-445a-bbc8-bc4a698d1e4b"
   },
   "outputs": [],
   "source": []
  },
  {
   "cell_type": "markdown",
   "metadata": {
    "id": "GuLvL7pRn3ue"
   },
   "source": [
    "\n",
    "### How are the worst movies rated across all platforms?\n",
    "\n",
    "**TASK: Create a clustermap visualization of all normalized scores. Note the differences in ratings, highly rated movies should be clustered together versus poorly rated movies. Note: This clustermap does not need to have the FILM titles as the index, feel free to drop it for the clustermap.**"
   ]
  },
  {
   "cell_type": "code",
   "execution_count": 157,
   "metadata": {
    "id": "cCnBhRwkn3ue"
   },
   "outputs": [
    {
     "data": {
      "text/plain": [
       "<seaborn.matrix.ClusterGrid at 0x1c635d81670>"
      ]
     },
     "execution_count": 157,
     "metadata": {},
     "output_type": "execute_result"
    },
    {
     "data": {
      "image/png": "[encoded data removed]",
      "text/plain": [
       "<Figure size 720x720 with 4 Axes>"
      ]
     },
     "metadata": {
      "needs_background": "light"
     },
     "output_type": "display_data"
    }
   ],
   "source": [
    "sns.clustermap(data=norm_scores)"
   ]
  },
  {
   "cell_type": "code",
   "execution_count": null,
   "metadata": {
    "id": "pDwDPLVin3ue",
    "outputId": "6688dd3f-05cc-406f-ad2b-a6b11dd98b37"
   },
   "outputs": [],
   "source": []
  },
  {
   "cell_type": "markdown",
   "metadata": {
    "id": "SKRvFEKPn3ue"
   },
   "source": [
    "**TASK: Clearly Fandango is rating movies much higher than other sites, especially considering that it is then displaying a rounded up version of the rating. Let's examine the top 10 worst movies. Based off the Rotten Tomatoes Critic Ratings, what are the top 10 lowest rated movies? What are the normalized scores across all platforms for these movies? You may need to add the FILM column back in to your DataFrame of normalized scores to see the results.**"
   ]
  },
  {
   "cell_type": "code",
   "execution_count": 158,
   "metadata": {
    "id": "ErSa__VPn3uf"
   },
   "outputs": [
    {
     "data": {
      "text/html": [
       "<div>\n",
       "<style scoped>\n",
       "    .dataframe tbody tr th:only-of-type {\n",
       "        vertical-align: middle;\n",
       "    }\n",
       "\n",
       "    .dataframe tbody tr th {\n",
       "        vertical-align: top;\n",
       "    }\n",
       "\n",
       "    .dataframe thead th {\n",
       "        text-align: right;\n",
       "    }\n",
       "</style>\n",
       "<table border=\"1\" class=\"dataframe\">\n",
       "  <thead>\n",
       "    <tr style=\"text-align: right;\">\n",
       "      <th></th>\n",
       "      <th>STARS</th>\n",
       "      <th>RATING</th>\n",
       "      <th>RT_Norm</th>\n",
       "      <th>RTU_Norm</th>\n",
       "      <th>Meta_Norm</th>\n",
       "      <th>Meta_U_Norm</th>\n",
       "      <th>IMDB_Norm</th>\n",
       "      <th>FILM</th>\n",
       "    </tr>\n",
       "  </thead>\n",
       "  <tbody>\n",
       "    <tr>\n",
       "      <th>70</th>\n",
       "      <td>3.5</td>\n",
       "      <td>3.5</td>\n",
       "      <td>0.2</td>\n",
       "      <td>1.8</td>\n",
       "      <td>0.6</td>\n",
       "      <td>1.2</td>\n",
       "      <td>2.2</td>\n",
       "      <td>Paul Blart: Mall Cop 2 (2015)</td>\n",
       "    </tr>\n",
       "    <tr>\n",
       "      <th>36</th>\n",
       "      <td>4.0</td>\n",
       "      <td>3.9</td>\n",
       "      <td>0.4</td>\n",
       "      <td>2.4</td>\n",
       "      <td>1.4</td>\n",
       "      <td>1.6</td>\n",
       "      <td>3.0</td>\n",
       "      <td>Hitman: Agent 47 (2015)</td>\n",
       "    </tr>\n",
       "    <tr>\n",
       "      <th>95</th>\n",
       "      <td>4.5</td>\n",
       "      <td>4.1</td>\n",
       "      <td>0.4</td>\n",
       "      <td>2.3</td>\n",
       "      <td>1.3</td>\n",
       "      <td>2.3</td>\n",
       "      <td>3.0</td>\n",
       "      <td>Taken 3 (2015)</td>\n",
       "    </tr>\n",
       "    <tr>\n",
       "      <th>29</th>\n",
       "      <td>3.0</td>\n",
       "      <td>2.7</td>\n",
       "      <td>0.4</td>\n",
       "      <td>1.0</td>\n",
       "      <td>1.4</td>\n",
       "      <td>1.2</td>\n",
       "      <td>2.0</td>\n",
       "      <td>Fantastic Four (2015)</td>\n",
       "    </tr>\n",
       "    <tr>\n",
       "      <th>38</th>\n",
       "      <td>4.0</td>\n",
       "      <td>3.7</td>\n",
       "      <td>0.4</td>\n",
       "      <td>1.8</td>\n",
       "      <td>1.6</td>\n",
       "      <td>1.8</td>\n",
       "      <td>2.4</td>\n",
       "      <td>Hot Pursuit (2015)</td>\n",
       "    </tr>\n",
       "    <tr>\n",
       "      <th>102</th>\n",
       "      <td>4.0</td>\n",
       "      <td>3.6</td>\n",
       "      <td>0.5</td>\n",
       "      <td>1.8</td>\n",
       "      <td>1.5</td>\n",
       "      <td>2.8</td>\n",
       "      <td>2.3</td>\n",
       "      <td>The Boy Next Door (2015)</td>\n",
       "    </tr>\n",
       "    <tr>\n",
       "      <th>87</th>\n",
       "      <td>3.5</td>\n",
       "      <td>3.3</td>\n",
       "      <td>0.6</td>\n",
       "      <td>1.7</td>\n",
       "      <td>1.6</td>\n",
       "      <td>2.5</td>\n",
       "      <td>2.8</td>\n",
       "      <td>Sinister 2 (2015)</td>\n",
       "    </tr>\n",
       "    <tr>\n",
       "      <th>136</th>\n",
       "      <td>3.5</td>\n",
       "      <td>3.2</td>\n",
       "      <td>0.6</td>\n",
       "      <td>1.4</td>\n",
       "      <td>1.6</td>\n",
       "      <td>1.9</td>\n",
       "      <td>2.7</td>\n",
       "      <td>Unfinished Business (2015)</td>\n",
       "    </tr>\n",
       "    <tr>\n",
       "      <th>84</th>\n",
       "      <td>3.5</td>\n",
       "      <td>3.2</td>\n",
       "      <td>0.6</td>\n",
       "      <td>1.8</td>\n",
       "      <td>1.5</td>\n",
       "      <td>2.0</td>\n",
       "      <td>2.8</td>\n",
       "      <td>Seventh Son (2015)</td>\n",
       "    </tr>\n",
       "    <tr>\n",
       "      <th>64</th>\n",
       "      <td>3.5</td>\n",
       "      <td>3.2</td>\n",
       "      <td>0.6</td>\n",
       "      <td>1.5</td>\n",
       "      <td>1.4</td>\n",
       "      <td>1.6</td>\n",
       "      <td>2.8</td>\n",
       "      <td>Mortdecai (2015)</td>\n",
       "    </tr>\n",
       "  </tbody>\n",
       "</table>\n",
       "</div>"
      ],
      "text/plain": [
       "     STARS  RATING  RT_Norm  RTU_Norm  Meta_Norm  Meta_U_Norm  IMDB_Norm  \\\n",
       "70     3.5     3.5      0.2       1.8        0.6          1.2        2.2   \n",
       "36     4.0     3.9      0.4       2.4        1.4          1.6        3.0   \n",
       "95     4.5     4.1      0.4       2.3        1.3          2.3        3.0   \n",
       "29     3.0     2.7      0.4       1.0        1.4          1.2        2.0   \n",
       "38     4.0     3.7      0.4       1.8        1.6          1.8        2.4   \n",
       "102    4.0     3.6      0.5       1.8        1.5          2.8        2.3   \n",
       "87     3.5     3.3      0.6       1.7        1.6          2.5        2.8   \n",
       "136    3.5     3.2      0.6       1.4        1.6          1.9        2.7   \n",
       "84     3.5     3.2      0.6       1.8        1.5          2.0        2.8   \n",
       "64     3.5     3.2      0.6       1.5        1.4          1.6        2.8   \n",
       "\n",
       "                              FILM  \n",
       "70   Paul Blart: Mall Cop 2 (2015)  \n",
       "36         Hitman: Agent 47 (2015)  \n",
       "95                  Taken 3 (2015)  \n",
       "29           Fantastic Four (2015)  \n",
       "38              Hot Pursuit (2015)  \n",
       "102       The Boy Next Door (2015)  \n",
       "87               Sinister 2 (2015)  \n",
       "136     Unfinished Business (2015)  \n",
       "84              Seventh Son (2015)  \n",
       "64                Mortdecai (2015)  "
      ]
     },
     "execution_count": 158,
     "metadata": {},
     "output_type": "execute_result"
    }
   ],
   "source": [
    "norm_scores['FILM'] = combined['FILM']\n",
    "df = norm_scores.sort_values('RT_Norm',ascending=True)\n",
    "df.head(10)"
   ]
  },
  {
   "cell_type": "code",
   "execution_count": null,
   "metadata": {
    "id": "0bWKh0uRn3uf"
   },
   "outputs": [],
   "source": []
  },
  {
   "cell_type": "code",
   "execution_count": null,
   "metadata": {
    "id": "UQSaa2OKn3uf",
    "outputId": "9f3bfd4b-7467-46d4-d38c-19f0900089d0"
   },
   "outputs": [],
   "source": []
  },
  {
   "cell_type": "markdown",
   "metadata": {
    "id": "2SYz8InVn3uf"
   },
   "source": [
    "**FINAL TASK: Visualize the distribution of ratings across all sites for the top 10 worst movies.**"
   ]
  },
  {
   "cell_type": "code",
   "execution_count": 159,
   "metadata": {
    "id": "0_AGh-OMn3ug"
   },
   "outputs": [
    {
     "data": {
      "text/plain": [
       "(0.0, 5.0)"
      ]
     },
     "execution_count": 159,
     "metadata": {},
     "output_type": "execute_result"
    },
    {
     "data": {
      "image/png": "[encoded data removed]",
      "text/plain": [
       "<Figure size 1008x504 with 1 Axes>"
      ]
     },
     "metadata": {
      "needs_background": "light"
     },
     "output_type": "display_data"
    }
   ],
   "source": [
    "df2 = df.head(10)\n",
    "\n",
    "plt.figure(figsize=(14,7))\n",
    "ax = sns.kdeplot(data=df2[['STARS','RATING','RT_Norm','RTU_Norm','Meta_Norm','Meta_U_Norm','IMDB_Norm']],shade=True)\n",
    "plt.xlim(0,5)"
   ]
  },
  {
   "cell_type": "code",
   "execution_count": null,
   "metadata": {
    "id": "sl9UmRjKn3ug",
    "outputId": "a19f9541-bf49-44aa-fcdd-b1eb00ffe7b0"
   },
   "outputs": [],
   "source": []
  },
  {
   "cell_type": "markdown",
   "metadata": {
    "id": "sw8cJdhMn3ug"
   },
   "source": [
    "---\n",
    "----\n",
    "\n",
    "<img src=\"https://upload.wikimedia.org/wikipedia/en/6/6f/Taken_3_poster.jpg\">\n",
    "\n",
    "**Final thoughts: Wow! Fandango is showing around 3-4 star ratings for films that are clearly bad! Notice the biggest offender, [Taken 3!](https://www.youtube.com/watch?v=tJrfImRCHJ0). Fandango is displaying 4.5 stars on their site for a film with an [average rating of 1.86](https://en.wikipedia.org/wiki/Taken_3#Critical_response) across the other platforms!**"
   ]
  },
  {
   "cell_type": "code",
   "execution_count": 160,
   "metadata": {
    "id": "QqNOKYQgn3uh",
    "outputId": "a4f30c40-d912-442e-9e33-433ccf40196a"
   },
   "outputs": [
    {
     "data": {
      "text/plain": [
       "STARS          4.5\n",
       "RATING         4.1\n",
       "RT_Norm        0.4\n",
       "RTU_Norm       2.3\n",
       "Meta_Norm      1.3\n",
       "Meta_U_Norm    2.3\n",
       "IMDB_Norm      3.0\n",
       "Name: Taken 3 (2015), dtype: float64"
      ]
     },
     "execution_count": 160,
     "metadata": {},
     "output_type": "execute_result"
    }
   ],
   "source": [
    "df = df.set_index('FILM')\n",
    "df.loc['Taken 3 (2015)']"
   ]
  },
  {
   "cell_type": "code",
   "execution_count": 161,
   "metadata": {
    "id": "FXlIGx4un3uh",
    "outputId": "b379b947-049b-4910-e7fd-36f45958f260"
   },
   "outputs": [
    {
     "data": {
      "text/plain": [
       "9.3"
      ]
     },
     "execution_count": 161,
     "metadata": {},
     "output_type": "execute_result"
    }
   ],
   "source": [
    "0.4+2.3+1.3+2.3+3"
   ]
  },
  {
   "cell_type": "code",
   "execution_count": 162,
   "metadata": {
    "id": "qF_qM0oxn3uh",
    "outputId": "17579b49-eede-4500-ff20-18ce291b7bdb"
   },
   "outputs": [
    {
     "data": {
      "text/plain": [
       "1.86"
      ]
     },
     "execution_count": 162,
     "metadata": {},
     "output_type": "execute_result"
    }
   ],
   "source": [
    "9.3/5"
   ]
  },
  {
   "cell_type": "markdown",
   "metadata": {
    "id": "OaPSXoZVn3uh"
   },
   "source": [
    "----"
   ]
  }
 ],
 "metadata": {
  "anaconda-cloud": {},
  "colab": {
   "collapsed_sections": [
    "7yPr662pn3uE",
    "d_aPBvupn3uG",
    "2TcN9r4On3uL",
    "70pO5iLcn3uM",
    "o7T6s50bn3uX",
    "ipFQhwD4n3ua",
    "8LxPczcIn3uc",
    "GuLvL7pRn3ue"
   ],
   "name": "Capstone-Project.ipynb",
   "provenance": []
  },
  "kernelspec": {
   "display_name": "Python 3",
   "language": "python",
   "name": "python3"
  },
  "language_info": {
   "codemirror_mode": {
    "name": "ipython",
    "version": 3
   },
   "file_extension": ".py",
   "mimetype": "text/x-python",
   "name": "python",
   "nbconvert_exporter": "python",
   "pygments_lexer": "ipython3",
   "version": "3.8.8"
  }
 },
 "nbformat": 4,
 "nbformat_minor": 1
}
