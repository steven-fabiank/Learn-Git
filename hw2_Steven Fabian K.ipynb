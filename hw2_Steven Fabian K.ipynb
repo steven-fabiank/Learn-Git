{
 "cells": [
  {
   "cell_type": "code",
   "execution_count": 1,
   "id": "b2b9d29c",
   "metadata": {},
   "outputs": [],
   "source": [
    "import math\n",
    "\n",
    "body_r = {                  # average radius (km)\n",
    "    'earth': 6371,\n",
    "    'moon': 1737,\n",
    "    'mars': 3389\n",
    "}\n",
    "body_g = {                  # gravitational constant (km^3/s^2)\n",
    "    'earth': 3.896*10**5,\n",
    "    'moon': 4.905*10**3,\n",
    "    'mars': 4.283*10**4\n",
    "}\n",
    "\n",
    "# Astro calculator\n",
    "# Calculates satellite orbit eccentricity, period, altitude, and velocity\n",
    "\n",
    "class Orbit():\n",
    "    def __init__(self,apo,peri,body,theta):\n",
    "        self.apo = apo        # apoapsis altitude from surface (km)\n",
    "        self.peri = peri      # periapsis altitude from surface (km)\n",
    "        self.body = body      # body to orbit (earth, moon, or mars)\n",
    "        self.theta = theta    # theta / position from perigee (degrees)(0 = periapsis, 180 = apoapsis)\n",
    "    \n",
    "    def print_eccentricity(self):   # calculates orbit eccentricity\n",
    "        e = (self.apo - self.peri)/(self.apo + self.peri)\n",
    "        print('e = ' + str(e))\n",
    "    \n",
    "    def print_period(self):         # calculates orbit period\n",
    "        ra = body_r[self.body] + self.apo\n",
    "        rp = body_r[self.body] + self.peri\n",
    "        sma = (ra + rp)/2\n",
    "        P = 2*math.pi* math.sqrt(sma**3 / body_g[self.body])\n",
    "        print('Period: '+ \"%.3f\" % (P) + ' s')\n",
    "        print('Period: '+ \"%.3f\" % (P/60) + ' min')\n",
    "    \n",
    "    def print_current_alt(self):       # calculates orbit altitude at theta\n",
    "        ra = body_r[self.body] + self.apo\n",
    "        rp = body_r[self.body] + self.peri\n",
    "        e = (ra - rp)/(ra + rp)\n",
    "        sma = (ra + rp)/2\n",
    "        r = (sma*(1 - e**2))/(1 + e*math.cos(math.radians(self.theta)))\n",
    "        alt = r-body_r[self.body]\n",
    "        print('r = ' + \"%.3f\" % (r) + ' km')           # shows r from body's center\n",
    "        print('altitude = ' + \"%.3f\" % (alt) + ' km')  # shows altitude from body's surface\n",
    "\n",
    "    def print_current_velocity(self):       # calculates orbit velocity at theta\n",
    "        g = body_g[self.body]\n",
    "        ra = body_r[self.body] + self.apo\n",
    "        rp = body_r[self.body] + self.peri\n",
    "        e = (ra - rp)/(ra + rp)\n",
    "        sma = (ra + rp)/2\n",
    "        r = (sma*(1 - e**2))/(1 + e*math.cos(math.radians(self.theta)))\n",
    "        V = math.sqrt(g*((2/r) - (1/sma)))\n",
    "        print('V = ' + \"%.3f\" % (V) + ' km/s')"
   ]
  },
  {
   "cell_type": "code",
   "execution_count": 4,
   "id": "2add4863",
   "metadata": {
    "scrolled": true
   },
   "outputs": [
    {
     "name": "stdout",
     "output_type": "stream",
     "text": [
      "e = 0.004761904761904762\n"
     ]
    }
   ],
   "source": [
    "ISS = Orbit(422,418,'earth',90)\n",
    "ISS.print_eccentricity()"
   ]
  },
  {
   "cell_type": "code",
   "execution_count": 5,
   "id": "4c855204",
   "metadata": {},
   "outputs": [
    {
     "name": "stdout",
     "output_type": "stream",
     "text": [
      "Period: 5633.405 s\n",
      "Period: 93.890 min\n"
     ]
    }
   ],
   "source": [
    "ISS.print_period()"
   ]
  },
  {
   "cell_type": "code",
   "execution_count": 7,
   "id": "7bb59944",
   "metadata": {},
   "outputs": [
    {
     "name": "stdout",
     "output_type": "stream",
     "text": [
      "r = 6790.999 km\n",
      "altitude = 419.999 km\n"
     ]
    }
   ],
   "source": [
    "ISS.print_current_alt()"
   ]
  },
  {
   "cell_type": "code",
   "execution_count": 8,
   "id": "8424f19a",
   "metadata": {},
   "outputs": [
    {
     "name": "stdout",
     "output_type": "stream",
     "text": [
      "V = 7.574 km/s\n"
     ]
    }
   ],
   "source": [
    "ISS.print_current_velocity()"
   ]
  }
 ],
 "metadata": {
  "kernelspec": {
   "display_name": "Python 3",
   "language": "python",
   "name": "python3"
  },
  "language_info": {
   "codemirror_mode": {
    "name": "ipython",
    "version": 3
   },
   "file_extension": ".py",
   "mimetype": "text/x-python",
   "name": "python",
   "nbconvert_exporter": "python",
   "pygments_lexer": "ipython3",
   "version": "3.8.8"
  }
 },
 "nbformat": 4,
 "nbformat_minor": 5
}
