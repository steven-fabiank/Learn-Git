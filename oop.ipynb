{
 "cells": [
  {
   "cell_type": "code",
   "execution_count": 16,
   "id": "2a7fd2db",
   "metadata": {},
   "outputs": [
    {
     "name": "stdout",
     "output_type": "stream",
     "text": [
      "Garfield: meow\n",
      "Garfield ate a lasagna. He gained 1 kg\n",
      "Garfield weight is now 5\n",
      "Garfield ate a lasagna. He gained 1 kg\n",
      "Garfield weight is now 6\n"
     ]
    }
   ],
   "source": [
    "class cat:\n",
    "    def __init__(self,name,weight):\n",
    "        self.name = name\n",
    "        self.weight = weight\n",
    "    def meow(self):\n",
    "        print(self.name + ': meow')\n",
    "    def eat(self):\n",
    "        self.weight += 1\n",
    "        print(self.name + ' ate a lasagna. He gained 1 kg')\n",
    "        print(self.name + ' weight is now ' + str(self.weight))\n",
    "\n",
    "cat1 = cat('Garfield',4)\n",
    "cat1.meow()\n",
    "cat1.eat()"
   ]
  },
  {
   "cell_type": "code",
   "execution_count": 17,
   "id": "6be95842",
   "metadata": {},
   "outputs": [
    {
     "name": "stdout",
     "output_type": "stream",
     "text": [
      "Hello my name is John\n"
     ]
    }
   ],
   "source": [
    "class Person:\n",
    "    def __init__(self, name, age):\n",
    "        self.name = name\n",
    "        self.age = age\n",
    "\n",
    "    def myfunc(self):\n",
    "        print(\"Hello my name is \" + self.name)\n",
    "\n",
    "p1 = Person(\"John\", 36)\n",
    "p1.myfunc()"
   ]
  },
  {
   "cell_type": "code",
   "execution_count": null,
   "id": "3cee3bd8",
   "metadata": {},
   "outputs": [],
   "source": []
  }
 ],
 "metadata": {
  "kernelspec": {
   "display_name": "Python 3",
   "language": "python",
   "name": "python3"
  },
  "language_info": {
   "codemirror_mode": {
    "name": "ipython",
    "version": 3
   },
   "file_extension": ".py",
   "mimetype": "text/x-python",
   "name": "python",
   "nbconvert_exporter": "python",
   "pygments_lexer": "ipython3",
   "version": "3.8.8"
  }
 },
 "nbformat": 4,
 "nbformat_minor": 5
}
